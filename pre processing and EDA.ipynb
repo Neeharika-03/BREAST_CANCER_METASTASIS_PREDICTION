{
 "cells": [
  {
   "cell_type": "code",
   "execution_count": 1,
   "id": "1e839928",
   "metadata": {},
   "outputs": [
    {
     "name": "stdout",
     "output_type": "stream",
     "text": [
      "3.10.11 | packaged by Anaconda, Inc. | (main, May 16 2023, 00:55:32) [MSC v.1916 64 bit (AMD64)]\n"
     ]
    }
   ],
   "source": [
    "import sys\n",
    "print(sys.version)"
   ]
  },
  {
   "cell_type": "code",
   "execution_count": 2,
   "id": "a36a616a",
   "metadata": {},
   "outputs": [
    {
     "name": "stdout",
     "output_type": "stream",
     "text": [
      "3.10.11 | packaged by Anaconda, Inc. | (main, May 16 2023, 00:55:32) [MSC v.1916 64 bit (AMD64)]\n"
     ]
    }
   ],
   "source": [
    "import sys\n",
    "print(sys.version)"
   ]
  },
  {
   "cell_type": "code",
   "execution_count": 3,
   "id": "3deea140",
   "metadata": {},
   "outputs": [
    {
     "name": "stdout",
     "output_type": "stream",
     "text": [
      "3.10.11 | packaged by Anaconda, Inc. | (main, May 16 2023, 00:55:32) [MSC v.1916 64 bit (AMD64)]\n"
     ]
    }
   ],
   "source": [
    "import sys\n",
    "print(sys.version)"
   ]
  },
  {
   "cell_type": "code",
   "execution_count": 4,
   "id": "4ce95790",
   "metadata": {},
   "outputs": [
    {
     "name": "stdout",
     "output_type": "stream",
     "text": [
      "Requirement already satisfied: scikit-learn==1.1.2 in c:\\users\\satis\\anaconda3\\envs\\miniproject\\lib\\site-packages (1.1.2)\n",
      "Requirement already satisfied: joblib>=1.0.0 in c:\\users\\satis\\anaconda3\\envs\\miniproject\\lib\\site-packages (from scikit-learn==1.1.2) (1.2.0)\n",
      "Requirement already satisfied: scipy>=1.3.2 in c:\\users\\satis\\anaconda3\\envs\\miniproject\\lib\\site-packages (from scikit-learn==1.1.2) (1.12.0)\n",
      "Requirement already satisfied: threadpoolctl>=2.0.0 in c:\\users\\satis\\anaconda3\\envs\\miniproject\\lib\\site-packages (from scikit-learn==1.1.2) (3.3.0)\n",
      "Requirement already satisfied: numpy>=1.17.3 in c:\\users\\satis\\anaconda3\\envs\\miniproject\\lib\\site-packages (from scikit-learn==1.1.2) (1.26.4)\n",
      "Note: you may need to restart the kernel to use updated packages.\n"
     ]
    },
    {
     "name": "stderr",
     "output_type": "stream",
     "text": [
      "WARNING: There was an error checking the latest version of pip.\n"
     ]
    }
   ],
   "source": [
    "pip install scikit-learn==1.1.2"
   ]
  },
  {
   "cell_type": "code",
   "execution_count": 5,
   "id": "aa807672",
   "metadata": {},
   "outputs": [
    {
     "name": "stdout",
     "output_type": "stream",
     "text": [
      "Requirement already satisfied: missingpy==0.2.0 in c:\\users\\satis\\anaconda3\\envs\\miniproject\\lib\\site-packages (0.2.0)\n",
      "Note: you may need to restart the kernel to use updated packages.\n"
     ]
    },
    {
     "name": "stderr",
     "output_type": "stream",
     "text": [
      "WARNING: There was an error checking the latest version of pip.\n"
     ]
    }
   ],
   "source": [
    "pip install missingpy==0.2.0"
   ]
  },
  {
   "cell_type": "code",
   "execution_count": 6,
   "id": "9d04a85d",
   "metadata": {},
   "outputs": [
    {
     "name": "stdout",
     "output_type": "stream",
     "text": [
      "Requirement already satisfied: scikit-plot==0.3.7 in c:\\users\\satis\\anaconda3\\envs\\miniproject\\lib\\site-packages (0.3.7)\n",
      "Requirement already satisfied: matplotlib>=1.4.0 in c:\\users\\satis\\anaconda3\\envs\\miniproject\\lib\\site-packages (from scikit-plot==0.3.7) (3.7.1)\n",
      "Requirement already satisfied: scipy>=0.9 in c:\\users\\satis\\anaconda3\\envs\\miniproject\\lib\\site-packages (from scikit-plot==0.3.7) (1.12.0)\n",
      "Requirement already satisfied: joblib>=0.10 in c:\\users\\satis\\anaconda3\\envs\\miniproject\\lib\\site-packages (from scikit-plot==0.3.7) (1.2.0)\n",
      "Requirement already satisfied: scikit-learn>=0.18 in c:\\users\\satis\\anaconda3\\envs\\miniproject\\lib\\site-packages (from scikit-plot==0.3.7) (1.1.2)\n",
      "Requirement already satisfied: packaging>=20.0 in c:\\users\\satis\\anaconda3\\envs\\miniproject\\lib\\site-packages (from matplotlib>=1.4.0->scikit-plot==0.3.7) (23.1)\n",
      "Requirement already satisfied: fonttools>=4.22.0 in c:\\users\\satis\\anaconda3\\envs\\miniproject\\lib\\site-packages (from matplotlib>=1.4.0->scikit-plot==0.3.7) (4.49.0)\n",
      "Requirement already satisfied: kiwisolver>=1.0.1 in c:\\users\\satis\\anaconda3\\envs\\miniproject\\lib\\site-packages (from matplotlib>=1.4.0->scikit-plot==0.3.7) (1.4.5)\n",
      "Requirement already satisfied: pyparsing>=2.3.1 in c:\\users\\satis\\anaconda3\\envs\\miniproject\\lib\\site-packages (from matplotlib>=1.4.0->scikit-plot==0.3.7) (3.1.2)\n",
      "Requirement already satisfied: cycler>=0.10 in c:\\users\\satis\\anaconda3\\envs\\miniproject\\lib\\site-packages (from matplotlib>=1.4.0->scikit-plot==0.3.7) (0.12.1)\n",
      "Requirement already satisfied: pillow>=6.2.0 in c:\\users\\satis\\anaconda3\\envs\\miniproject\\lib\\site-packages (from matplotlib>=1.4.0->scikit-plot==0.3.7) (10.2.0)\n",
      "Requirement already satisfied: python-dateutil>=2.7 in c:\\users\\satis\\anaconda3\\envs\\miniproject\\lib\\site-packages (from matplotlib>=1.4.0->scikit-plot==0.3.7) (2.8.2)\n",
      "Requirement already satisfied: contourpy>=1.0.1 in c:\\users\\satis\\anaconda3\\envs\\miniproject\\lib\\site-packages (from matplotlib>=1.4.0->scikit-plot==0.3.7) (1.2.0)\n",
      "Requirement already satisfied: numpy>=1.20 in c:\\users\\satis\\anaconda3\\envs\\miniproject\\lib\\site-packages (from matplotlib>=1.4.0->scikit-plot==0.3.7) (1.26.4)\n",
      "Requirement already satisfied: threadpoolctl>=2.0.0 in c:\\users\\satis\\anaconda3\\envs\\miniproject\\lib\\site-packages (from scikit-learn>=0.18->scikit-plot==0.3.7) (3.3.0)\n",
      "Requirement already satisfied: six>=1.5 in c:\\users\\satis\\anaconda3\\envs\\miniproject\\lib\\site-packages (from python-dateutil>=2.7->matplotlib>=1.4.0->scikit-plot==0.3.7) (1.16.0)\n",
      "Note: you may need to restart the kernel to use updated packages.\n"
     ]
    },
    {
     "name": "stderr",
     "output_type": "stream",
     "text": [
      "WARNING: There was an error checking the latest version of pip.\n"
     ]
    }
   ],
   "source": [
    "pip install scikit-plot==0.3.7"
   ]
  },
  {
   "cell_type": "code",
   "execution_count": 7,
   "id": "ec891dac",
   "metadata": {},
   "outputs": [
    {
     "name": "stdout",
     "output_type": "stream",
     "text": [
      "Requirement already satisfied: xgboost==0.90 in c:\\users\\satis\\anaconda3\\envs\\miniproject\\lib\\site-packages (0.90)\n",
      "Requirement already satisfied: numpy in c:\\users\\satis\\anaconda3\\envs\\miniproject\\lib\\site-packages (from xgboost==0.90) (1.26.4)\n",
      "Requirement already satisfied: scipy in c:\\users\\satis\\anaconda3\\envs\\miniproject\\lib\\site-packages (from xgboost==0.90) (1.12.0)\n",
      "Note: you may need to restart the kernel to use updated packages.\n"
     ]
    },
    {
     "name": "stderr",
     "output_type": "stream",
     "text": [
      "WARNING: There was an error checking the latest version of pip.\n"
     ]
    }
   ],
   "source": [
    "pip install xgboost==0.90"
   ]
  },
  {
   "cell_type": "code",
   "execution_count": 8,
   "id": "03eccc4a",
   "metadata": {},
   "outputs": [
    {
     "name": "stdout",
     "output_type": "stream",
     "text": [
      "Requirement already satisfied: lightgbm==2.3.1 in c:\\users\\satis\\anaconda3\\envs\\miniproject\\lib\\site-packages (2.3.1)\n",
      "Requirement already satisfied: scipy in c:\\users\\satis\\anaconda3\\envs\\miniproject\\lib\\site-packages (from lightgbm==2.3.1) (1.12.0)\n",
      "Requirement already satisfied: scikit-learn in c:\\users\\satis\\anaconda3\\envs\\miniproject\\lib\\site-packages (from lightgbm==2.3.1) (1.1.2)\n",
      "Requirement already satisfied: numpy in c:\\users\\satis\\anaconda3\\envs\\miniproject\\lib\\site-packages (from lightgbm==2.3.1) (1.26.4)\n",
      "Requirement already satisfied: joblib>=1.0.0 in c:\\users\\satis\\anaconda3\\envs\\miniproject\\lib\\site-packages (from scikit-learn->lightgbm==2.3.1) (1.2.0)\n",
      "Requirement already satisfied: threadpoolctl>=2.0.0 in c:\\users\\satis\\anaconda3\\envs\\miniproject\\lib\\site-packages (from scikit-learn->lightgbm==2.3.1) (3.3.0)\n",
      "Note: you may need to restart the kernel to use updated packages.\n"
     ]
    },
    {
     "name": "stderr",
     "output_type": "stream",
     "text": [
      "WARNING: There was an error checking the latest version of pip.\n"
     ]
    }
   ],
   "source": [
    "pip install lightgbm==2.3.1"
   ]
  },
  {
   "cell_type": "code",
   "execution_count": 9,
   "id": "d6eabbe7",
   "metadata": {},
   "outputs": [
    {
     "name": "stdout",
     "output_type": "stream",
     "text": [
      "Requirement already satisfied: catboost==1.1 in c:\\users\\satis\\anaconda3\\envs\\miniproject\\lib\\site-packages (1.1)\n",
      "Requirement already satisfied: six in c:\\users\\satis\\anaconda3\\envs\\miniproject\\lib\\site-packages (from catboost==1.1) (1.16.0)\n",
      "Requirement already satisfied: graphviz in c:\\users\\satis\\anaconda3\\envs\\miniproject\\lib\\site-packages (from catboost==1.1) (0.20.1)\n",
      "Requirement already satisfied: scipy in c:\\users\\satis\\anaconda3\\envs\\miniproject\\lib\\site-packages (from catboost==1.1) (1.12.0)\n",
      "Requirement already satisfied: plotly in c:\\users\\satis\\anaconda3\\envs\\miniproject\\lib\\site-packages (from catboost==1.1) (5.19.0)\n",
      "Requirement already satisfied: numpy>=1.16.0 in c:\\users\\satis\\anaconda3\\envs\\miniproject\\lib\\site-packages (from catboost==1.1) (1.26.4)\n",
      "Requirement already satisfied: pandas>=0.24.0 in c:\\users\\satis\\anaconda3\\envs\\miniproject\\lib\\site-packages (from catboost==1.1) (1.5.3)\n",
      "Requirement already satisfied: matplotlib in c:\\users\\satis\\anaconda3\\envs\\miniproject\\lib\\site-packages (from catboost==1.1) (3.7.1)\n",
      "Requirement already satisfied: pytz>=2020.1 in c:\\users\\satis\\anaconda3\\envs\\miniproject\\lib\\site-packages (from pandas>=0.24.0->catboost==1.1) (2024.1)\n",
      "Requirement already satisfied: python-dateutil>=2.8.1 in c:\\users\\satis\\anaconda3\\envs\\miniproject\\lib\\site-packages (from pandas>=0.24.0->catboost==1.1) (2.8.2)\n",
      "Requirement already satisfied: packaging>=20.0 in c:\\users\\satis\\anaconda3\\envs\\miniproject\\lib\\site-packages (from matplotlib->catboost==1.1) (23.1)\n",
      "Requirement already satisfied: cycler>=0.10 in c:\\users\\satis\\anaconda3\\envs\\miniproject\\lib\\site-packages (from matplotlib->catboost==1.1) (0.12.1)\n",
      "Requirement already satisfied: pillow>=6.2.0 in c:\\users\\satis\\anaconda3\\envs\\miniproject\\lib\\site-packages (from matplotlib->catboost==1.1) (10.2.0)\n",
      "Requirement already satisfied: kiwisolver>=1.0.1 in c:\\users\\satis\\anaconda3\\envs\\miniproject\\lib\\site-packages (from matplotlib->catboost==1.1) (1.4.5)\n",
      "Requirement already satisfied: contourpy>=1.0.1 in c:\\users\\satis\\anaconda3\\envs\\miniproject\\lib\\site-packages (from matplotlib->catboost==1.1) (1.2.0)\n",
      "Requirement already satisfied: fonttools>=4.22.0 in c:\\users\\satis\\anaconda3\\envs\\miniproject\\lib\\site-packages (from matplotlib->catboost==1.1) (4.49.0)\n",
      "Requirement already satisfied: pyparsing>=2.3.1 in c:\\users\\satis\\anaconda3\\envs\\miniproject\\lib\\site-packages (from matplotlib->catboost==1.1) (3.1.2)\n",
      "Requirement already satisfied: tenacity>=6.2.0 in c:\\users\\satis\\anaconda3\\envs\\miniproject\\lib\\site-packages (from plotly->catboost==1.1) (8.2.3)\n",
      "Note: you may need to restart the kernel to use updated packages.\n"
     ]
    },
    {
     "name": "stderr",
     "output_type": "stream",
     "text": [
      "WARNING: There was an error checking the latest version of pip.\n"
     ]
    }
   ],
   "source": [
    "pip install catboost==1.1"
   ]
  },
  {
   "cell_type": "code",
   "execution_count": 10,
   "id": "302f1f97",
   "metadata": {},
   "outputs": [
    {
     "name": "stdout",
     "output_type": "stream",
     "text": [
      "Requirement already satisfied: deap==1.3.3 in c:\\users\\satis\\anaconda3\\envs\\miniproject\\lib\\site-packages (1.3.3)\n",
      "Requirement already satisfied: numpy in c:\\users\\satis\\anaconda3\\envs\\miniproject\\lib\\site-packages (from deap==1.3.3) (1.26.4)\n",
      "Note: you may need to restart the kernel to use updated packages.\n"
     ]
    },
    {
     "name": "stderr",
     "output_type": "stream",
     "text": [
      "WARNING: There was an error checking the latest version of pip.\n"
     ]
    }
   ],
   "source": [
    "pip install deap==1.3.3"
   ]
  },
  {
   "cell_type": "code",
   "execution_count": 11,
   "id": "2f73e083",
   "metadata": {},
   "outputs": [
    {
     "name": "stdout",
     "output_type": "stream",
     "text": [
      "Requirement already satisfied: lime==0.2.0.1 in c:\\users\\satis\\anaconda3\\envs\\miniproject\\lib\\site-packages (0.2.0.1)\n",
      "Requirement already satisfied: scikit-learn>=0.18 in c:\\users\\satis\\anaconda3\\envs\\miniproject\\lib\\site-packages (from lime==0.2.0.1) (1.1.2)\n",
      "Requirement already satisfied: matplotlib in c:\\users\\satis\\anaconda3\\envs\\miniproject\\lib\\site-packages (from lime==0.2.0.1) (3.7.1)\n",
      "Requirement already satisfied: tqdm in c:\\users\\satis\\anaconda3\\envs\\miniproject\\lib\\site-packages (from lime==0.2.0.1) (4.66.2)\n",
      "Requirement already satisfied: numpy in c:\\users\\satis\\anaconda3\\envs\\miniproject\\lib\\site-packages (from lime==0.2.0.1) (1.26.4)\n",
      "Requirement already satisfied: scipy in c:\\users\\satis\\anaconda3\\envs\\miniproject\\lib\\site-packages (from lime==0.2.0.1) (1.12.0)\n",
      "Requirement already satisfied: scikit-image>=0.12 in c:\\users\\satis\\anaconda3\\envs\\miniproject\\lib\\site-packages (from lime==0.2.0.1) (0.22.0)\n",
      "Requirement already satisfied: tifffile>=2022.8.12 in c:\\users\\satis\\anaconda3\\envs\\miniproject\\lib\\site-packages (from scikit-image>=0.12->lime==0.2.0.1) (2024.2.12)\n",
      "Requirement already satisfied: packaging>=21 in c:\\users\\satis\\anaconda3\\envs\\miniproject\\lib\\site-packages (from scikit-image>=0.12->lime==0.2.0.1) (23.1)\n",
      "Requirement already satisfied: networkx>=2.8 in c:\\users\\satis\\anaconda3\\envs\\miniproject\\lib\\site-packages (from scikit-image>=0.12->lime==0.2.0.1) (3.2.1)\n",
      "Requirement already satisfied: pillow>=9.0.1 in c:\\users\\satis\\anaconda3\\envs\\miniproject\\lib\\site-packages (from scikit-image>=0.12->lime==0.2.0.1) (10.2.0)\n",
      "Requirement already satisfied: imageio>=2.27 in c:\\users\\satis\\anaconda3\\envs\\miniproject\\lib\\site-packages (from scikit-image>=0.12->lime==0.2.0.1) (2.34.0)\n",
      "Requirement already satisfied: lazy_loader>=0.3 in c:\\users\\satis\\anaconda3\\envs\\miniproject\\lib\\site-packages (from scikit-image>=0.12->lime==0.2.0.1) (0.3)\n",
      "Requirement already satisfied: threadpoolctl>=2.0.0 in c:\\users\\satis\\anaconda3\\envs\\miniproject\\lib\\site-packages (from scikit-learn>=0.18->lime==0.2.0.1) (3.3.0)\n",
      "Requirement already satisfied: joblib>=1.0.0 in c:\\users\\satis\\anaconda3\\envs\\miniproject\\lib\\site-packages (from scikit-learn>=0.18->lime==0.2.0.1) (1.2.0)\n",
      "Requirement already satisfied: cycler>=0.10 in c:\\users\\satis\\anaconda3\\envs\\miniproject\\lib\\site-packages (from matplotlib->lime==0.2.0.1) (0.12.1)\n",
      "Requirement already satisfied: python-dateutil>=2.7 in c:\\users\\satis\\anaconda3\\envs\\miniproject\\lib\\site-packages (from matplotlib->lime==0.2.0.1) (2.8.2)\n",
      "Requirement already satisfied: pyparsing>=2.3.1 in c:\\users\\satis\\anaconda3\\envs\\miniproject\\lib\\site-packages (from matplotlib->lime==0.2.0.1) (3.1.2)\n",
      "Requirement already satisfied: kiwisolver>=1.0.1 in c:\\users\\satis\\anaconda3\\envs\\miniproject\\lib\\site-packages (from matplotlib->lime==0.2.0.1) (1.4.5)\n",
      "Requirement already satisfied: fonttools>=4.22.0 in c:\\users\\satis\\anaconda3\\envs\\miniproject\\lib\\site-packages (from matplotlib->lime==0.2.0.1) (4.49.0)\n",
      "Requirement already satisfied: contourpy>=1.0.1 in c:\\users\\satis\\anaconda3\\envs\\miniproject\\lib\\site-packages (from matplotlib->lime==0.2.0.1) (1.2.0)\n",
      "Requirement already satisfied: colorama in c:\\users\\satis\\anaconda3\\envs\\miniproject\\lib\\site-packages (from tqdm->lime==0.2.0.1) (0.4.6)\n",
      "Requirement already satisfied: six>=1.5 in c:\\users\\satis\\anaconda3\\envs\\miniproject\\lib\\site-packages (from python-dateutil>=2.7->matplotlib->lime==0.2.0.1) (1.16.0)\n",
      "Note: you may need to restart the kernel to use updated packages.\n"
     ]
    },
    {
     "name": "stderr",
     "output_type": "stream",
     "text": [
      "WARNING: There was an error checking the latest version of pip.\n"
     ]
    }
   ],
   "source": [
    "pip install lime==0.2.0.1"
   ]
  },
  {
   "cell_type": "code",
   "execution_count": 12,
   "id": "62a147e5",
   "metadata": {},
   "outputs": [],
   "source": [
    "import warnings\n",
    "warnings.filterwarnings(\"ignore\")"
   ]
  },
  {
   "cell_type": "code",
   "execution_count": 13,
   "id": "8ff3ee33",
   "metadata": {},
   "outputs": [
    {
     "name": "stdout",
     "output_type": "stream",
     "text": [
      "Requirement already satisfied: seaborn in c:\\users\\satis\\anaconda3\\envs\\miniproject\\lib\\site-packages (0.13.2)\n",
      "Requirement already satisfied: pandas>=1.2 in c:\\users\\satis\\anaconda3\\envs\\miniproject\\lib\\site-packages (from seaborn) (1.5.3)\n",
      "Requirement already satisfied: numpy!=1.24.0,>=1.20 in c:\\users\\satis\\anaconda3\\envs\\miniproject\\lib\\site-packages (from seaborn) (1.26.4)\n",
      "Requirement already satisfied: matplotlib!=3.6.1,>=3.4 in c:\\users\\satis\\anaconda3\\envs\\miniproject\\lib\\site-packages (from seaborn) (3.7.1)\n",
      "Requirement already satisfied: pyparsing>=2.3.1 in c:\\users\\satis\\anaconda3\\envs\\miniproject\\lib\\site-packages (from matplotlib!=3.6.1,>=3.4->seaborn) (3.1.2)\n",
      "Requirement already satisfied: kiwisolver>=1.0.1 in c:\\users\\satis\\anaconda3\\envs\\miniproject\\lib\\site-packages (from matplotlib!=3.6.1,>=3.4->seaborn) (1.4.5)\n",
      "Requirement already satisfied: packaging>=20.0 in c:\\users\\satis\\anaconda3\\envs\\miniproject\\lib\\site-packages (from matplotlib!=3.6.1,>=3.4->seaborn) (23.1)\n",
      "Requirement already satisfied: cycler>=0.10 in c:\\users\\satis\\anaconda3\\envs\\miniproject\\lib\\site-packages (from matplotlib!=3.6.1,>=3.4->seaborn) (0.12.1)\n",
      "Requirement already satisfied: pillow>=6.2.0 in c:\\users\\satis\\anaconda3\\envs\\miniproject\\lib\\site-packages (from matplotlib!=3.6.1,>=3.4->seaborn) (10.2.0)\n",
      "Requirement already satisfied: fonttools>=4.22.0 in c:\\users\\satis\\anaconda3\\envs\\miniproject\\lib\\site-packages (from matplotlib!=3.6.1,>=3.4->seaborn) (4.49.0)\n",
      "Requirement already satisfied: contourpy>=1.0.1 in c:\\users\\satis\\anaconda3\\envs\\miniproject\\lib\\site-packages (from matplotlib!=3.6.1,>=3.4->seaborn) (1.2.0)\n",
      "Requirement already satisfied: python-dateutil>=2.7 in c:\\users\\satis\\anaconda3\\envs\\miniproject\\lib\\site-packages (from matplotlib!=3.6.1,>=3.4->seaborn) (2.8.2)\n",
      "Requirement already satisfied: pytz>=2020.1 in c:\\users\\satis\\anaconda3\\envs\\miniproject\\lib\\site-packages (from pandas>=1.2->seaborn) (2024.1)\n",
      "Requirement already satisfied: six>=1.5 in c:\\users\\satis\\anaconda3\\envs\\miniproject\\lib\\site-packages (from python-dateutil>=2.7->matplotlib!=3.6.1,>=3.4->seaborn) (1.16.0)\n",
      "Note: you may need to restart the kernel to use updated packages.\n"
     ]
    },
    {
     "name": "stderr",
     "output_type": "stream",
     "text": [
      "WARNING: There was an error checking the latest version of pip.\n"
     ]
    }
   ],
   "source": [
    "pip install seaborn"
   ]
  },
  {
   "cell_type": "code",
   "execution_count": 14,
   "id": "9181edcb",
   "metadata": {},
   "outputs": [],
   "source": [
    "import pandas as pd\n",
    "import numpy as np\n",
    "import matplotlib.pyplot as plt\n",
    "import seaborn as sns\n",
    "import seaborn.objects as so"
   ]
  },
  {
   "cell_type": "code",
   "execution_count": 15,
   "id": "d8d10c37",
   "metadata": {},
   "outputs": [
    {
     "name": "stdout",
     "output_type": "stream",
     "text": [
      "Requirement already satisfied: imblearn in c:\\users\\satis\\anaconda3\\envs\\miniproject\\lib\\site-packages (0.0)\n",
      "Requirement already satisfied: imbalanced-learn in c:\\users\\satis\\anaconda3\\envs\\miniproject\\lib\\site-packages (from imblearn) (0.12.0)\n",
      "Requirement already satisfied: joblib>=1.1.1 in c:\\users\\satis\\anaconda3\\envs\\miniproject\\lib\\site-packages (from imbalanced-learn->imblearn) (1.2.0)\n",
      "Requirement already satisfied: scikit-learn>=1.0.2 in c:\\users\\satis\\anaconda3\\envs\\miniproject\\lib\\site-packages (from imbalanced-learn->imblearn) (1.1.2)\n",
      "Requirement already satisfied: scipy>=1.5.0 in c:\\users\\satis\\anaconda3\\envs\\miniproject\\lib\\site-packages (from imbalanced-learn->imblearn) (1.12.0)\n",
      "Requirement already satisfied: threadpoolctl>=2.0.0 in c:\\users\\satis\\anaconda3\\envs\\miniproject\\lib\\site-packages (from imbalanced-learn->imblearn) (3.3.0)\n",
      "Requirement already satisfied: numpy>=1.17.3 in c:\\users\\satis\\anaconda3\\envs\\miniproject\\lib\\site-packages (from imbalanced-learn->imblearn) (1.26.4)\n",
      "Note: you may need to restart the kernel to use updated packages.\n"
     ]
    },
    {
     "name": "stderr",
     "output_type": "stream",
     "text": [
      "WARNING: There was an error checking the latest version of pip.\n"
     ]
    }
   ],
   "source": [
    "pip install imblearn"
   ]
  },
  {
   "cell_type": "code",
   "execution_count": 16,
   "id": "636b2096",
   "metadata": {},
   "outputs": [],
   "source": [
    "from collections import Counter\n",
    "\n",
    "import sklearn.neighbors._base\n",
    "import sys\n",
    "sys.modules['sklearn.neighbors.base'] = sklearn.neighbors._base\n",
    "from missingpy import MissForest\n",
    "\n",
    "from sklearn.model_selection import train_test_split, KFold, cross_val_score\n",
    "from imblearn.under_sampling import EditedNearestNeighbours"
   ]
  },
  {
   "cell_type": "code",
   "execution_count": 17,
   "id": "2b45fa39",
   "metadata": {},
   "outputs": [],
   "source": [
    "from deap import creator\n",
    "from deap import tools\n",
    "from deap import tools\n",
    "from deap import algorithms\n",
    "from deap import base\n"
   ]
  },
  {
   "cell_type": "code",
   "execution_count": 18,
   "id": "4b75d530",
   "metadata": {},
   "outputs": [],
   "source": [
    "from sklearn.ensemble import RandomForestClassifier\n",
    "from sklearn.linear_model import LogisticRegression\n",
    "from sklearn.tree import DecisionTreeClassifier\n",
    "from sklearn.neighbors import KNeighborsClassifier\n"
   ]
  },
  {
   "cell_type": "code",
   "execution_count": 19,
   "id": "27d9bf9b",
   "metadata": {},
   "outputs": [],
   "source": [
    "from sklearn.metrics import accuracy_score, recall_score, precision_score, confusion_matrix,classification_report,f1_score\n",
    "import pandas as pd\n",
    "from xgboost import XGBClassifier\n",
    "import xgboost as xgb\n",
    "import lightgbm as lgb\n",
    "from catboost import Pool, CatBoostClassifier\n",
    "\n",
    "import joblib\n",
    "import random\n",
    "\n",
    "import lime\n",
    "from lime import lime_tabular"
   ]
  },
  {
   "cell_type": "code",
   "execution_count": 20,
   "id": "93ea9239",
   "metadata": {},
   "outputs": [
    {
     "name": "stdout",
     "output_type": "stream",
     "text": [
      "Requirement already satisfied: openpyxl in c:\\users\\satis\\anaconda3\\envs\\miniproject\\lib\\site-packages (3.1.2)\n",
      "Requirement already satisfied: et-xmlfile in c:\\users\\satis\\anaconda3\\envs\\miniproject\\lib\\site-packages (from openpyxl) (1.1.0)\n",
      "Note: you may need to restart the kernel to use updated packages.\n"
     ]
    },
    {
     "name": "stderr",
     "output_type": "stream",
     "text": [
      "WARNING: There was an error checking the latest version of pip.\n"
     ]
    }
   ],
   "source": [
    "pip install openpyxl"
   ]
  },
  {
   "cell_type": "code",
   "execution_count": 21,
   "id": "f221b763",
   "metadata": {},
   "outputs": [],
   "source": [
    "import pandas as pd"
   ]
  },
  {
   "cell_type": "code",
   "execution_count": 22,
   "id": "0ab52232",
   "metadata": {},
   "outputs": [],
   "source": [
    "df = pd.read_excel(\"./Database_Slaoui_Meriem_2.xlsx\", index_col=0, na_values=['', 'unknown'])\n",
    "df.dropna(subset = ['progression'], inplace=True)\n",
    "#print(\"drop progression \",df.shape)\n",
    "\n",
    "# Delete  columns with missing values > 80%\n",
    "df.drop(['Metastatic disease'], axis='columns', inplace=True)\n",
    "\n",
    "df = df[df.Obesity.isnull() & df['Familial history of breast cancer'].isnull() & df.progression == 0]\n",
    "#print(df.shape)\n",
    "\n",
    "#change 0 and 1 into string so that we do not get confused with labeled values\n",
    "df['Number of full term pregnancies'] = df['Number of full term pregnancies'].replace(0,'zero')\n",
    "df['Number of full term pregnancies'] = df['Number of full term pregnancies'].replace(1,'one')\n",
    "\n",
    "\n",
    "#create data dictionary for labeling\n",
    "d = [{'≤40y': 0, '˃40y': 1},\n",
    "     {'no': 0, 'yes': 1},\n",
    "     {'zero': 0, 'one': 1, '2 to 4' : 2, '5 or more' : 3},\n",
    "     {'negative': 0, 'positive': 1},\n",
    "     {'T1': 0, 'T2': 1, 'T3': 2},\n",
    "     {'N0': 0, 'N1': 1, 'N2': 2, 'N3': 3},\n",
    "\n",
    "     {'sarcoma': 0, 'tubular carcinoma': 1, 'invasive carcinoma of no special type': 2,\n",
    "     'carcinoma with medullary features': 3, 'Invasive papillary carcinoma': 4,\n",
    "     'invasive lobular carcinoma': 5, 'Ductal carcinoma in situ': 6,\n",
    "     'angiosarcoma': 7, 'invasive mucinous carcinoma': 8,\n",
    "     'inflammatory carcinoma': 9, 'metaplastic carcinoma of NST': 10,\n",
    "     'carcinoma with neuroendocrine features': 11, 'Mixed invasive NST and special type': 12},\n",
    "     \n",
    "     {'SBR I': 0, 'SBR II': 1, 'SBR III': 2},\n",
    "\n",
    "     {'conservative' : 0, 'radical mastectomy' : 1},\n",
    "     \n",
    "     {'no' : 0, 'metastasis/relapse' : 1}]\n",
    "\n",
    "#label the data according to the dictionary\n",
    "df['Age']= df['Age'].map(d[0]).fillna(df['Age'])\n",
    "df['Nulliparity']= df['Nulliparity'].map(d[1]).fillna(df['Nulliparity'])\n",
    "df['Lymph nodes']= df['Lymph nodes'].map(d[5]).fillna(df['Lymph nodes'])\n",
    "df['Histological type']= df['Histological type'].map(d[6]).fillna(df['Histological type'])\n",
    "df['Radiotherapy']= df['Radiotherapy'].map(d[1]).fillna(df['Radiotherapy'])\n",
    "df['Trastuzumab']= df['Trastuzumab'].map(d[1]).fillna(df['Trastuzumab'])\n",
    "df['Vascular invasion']= df['Vascular invasion'].map(d[1]).fillna(df['Vascular invasion'])\n",
    "df['SBR grade']= df['SBR grade'].map(d[7]).fillna(df['SBR grade'])\n",
    "df['Oral contraception use']= df['Oral contraception use'].map(d[1]).fillna(df['Oral contraception use'])\n",
    "df['Menopause']= df['Menopause'].map(d[1]).fillna(df['Menopause'])\n",
    "df['PR']= df['PR'].map(d[3]).fillna(df['PR'])\n",
    "df['HER2']= df['HER2'].map(d[3]).fillna(df['HER2'])\n",
    "df['Familial history of breast cancer']= df['Familial history of breast cancer'].map(d[1]).fillna(df['Familial history of breast cancer'])\n",
    "df['ER']= df['ER'].map(d[3]).fillna(df['ER'])\n",
    "df['Tumor size']= df['Tumor size'].map(d[4]).fillna(df['Tumor size'])\n",
    "df['Surgery type']= df['Surgery type'].map(d[8]).fillna(df['Surgery type'])\n",
    "df['Number of full term pregnancies']= df['Number of full term pregnancies'].map(d[2]).fillna(df['Number of full term pregnancies'])\n",
    "df['Obesity']= df['Obesity'].map(d[1]).fillna(df['Obesity'])\n",
    "df['Adjuvant Chemotherapy']= df['Adjuvant Chemotherapy'].map(d[1]).fillna(df['Adjuvant Chemotherapy'])\n",
    "df['Hormone Therapy']= df['Hormone Therapy'].map(d[1]).fillna(df['Hormone Therapy'])\n",
    "df['progression']= df['progression'].map(d[9]).fillna(df['progression'])\n",
    "#save labeled data\n",
    "df.to_csv('df.csv', index = False)"
   ]
  },
  {
   "cell_type": "code",
   "execution_count": 23,
   "id": "a16bfefc",
   "metadata": {},
   "outputs": [
    {
     "name": "stdout",
     "output_type": "stream",
     "text": [
      "pip 23.0.1 from C:\\Users\\satis\\anaconda3\\envs\\Miniproject\\lib\\site-packages\\pip (python 3.10)\n",
      "\n",
      "Note: you may need to restart the kernel to use updated packages.\n"
     ]
    }
   ],
   "source": [
    "pip --version pandas"
   ]
  },
  {
   "cell_type": "code",
   "execution_count": 24,
   "id": "7988ba6d",
   "metadata": {},
   "outputs": [
    {
     "name": "stdout",
     "output_type": "stream",
     "text": [
      "Iteration: 0\n",
      "Iteration: 1\n",
      "Iteration: 2\n",
      "Iteration: 3\n"
     ]
    }
   ],
   "source": [
    "df = pd.read_csv('df.csv')\n",
    "#indices of the categorical features\n",
    "cat_cols_ind = [df.columns.get_loc(col) for col in df.columns.tolist()]\n",
    "# drop index of output column\n",
    "cat_cols_ind.pop()\n",
    "\n",
    "# perform the imputation\n",
    "imputer = MissForest()\n",
    "df_imputed = imputer.fit_transform(df, cat_vars=cat_cols_ind)\n",
    "\n",
    "#trandform imputed data to dataframe\n",
    "df = pd.DataFrame(df_imputed, columns= list(df.columns.values))\n",
    "\n",
    "for col in cat_cols_ind:\n",
    "    df.iloc[:,col] = df.iloc[:,col].astype('category')\n",
    "\n",
    "df.to_csv('Imputed.csv', index = False)"
   ]
  },
  {
   "cell_type": "code",
   "execution_count": 41,
   "id": "260c70f9",
   "metadata": {},
   "outputs": [],
   "source": [
    "df = pd.read_csv('Imputed.csv')\n",
    "\n",
    "Y = pd.DataFrame(df['progression'], columns = ['progression'])\n",
    "X = df.drop(['progression'], axis='columns', inplace=False)\n",
    "\n",
    "X_train, X_test, y_train, y_test = train_test_split(X, Y, test_size=0.2)"
   ]
  },
  {
   "cell_type": "code",
   "execution_count": 42,
   "id": "0d80785c",
   "metadata": {},
   "outputs": [
    {
     "name": "stdout",
     "output_type": "stream",
     "text": [
      "Counter({0.0: 234, 1.0: 79})\n",
      "Counter({0.0: 116, 1.0: 79})\n"
     ]
    }
   ],
   "source": [
    "# summarize distribution\n",
    "counter = Counter(y_train['progression'].values.tolist())\n",
    "print(counter)\n",
    "# for class imbalance\n",
    "enn = EditedNearestNeighbours(n_neighbors=4)\n",
    "X_train, y_train = enn.fit_resample(X_train, y_train)\n",
    "\n",
    "# summarize distribution\n",
    "counter = Counter(y_train['progression'].values.tolist())\n",
    "print(counter)\n",
    "\n",
    "X_train.to_csv(\"data/X_train.csv\", index = False)\n",
    "y_train.to_csv(\"data/y_train.csv\", index = False)\n",
    "X_test.to_csv(\"data/X_test.csv\", index = False)\n",
    "y_test.to_csv(\"data/y_test.csv\", index = False)"
   ]
  },
  {
   "cell_type": "code",
   "execution_count": 43,
   "id": "1c4eae82",
   "metadata": {},
   "outputs": [],
   "source": [
    "X_train = pd.read_csv(\"data/X_train.csv\")\n",
    "y_train = pd.read_csv(\"data/y_train.csv\")\n",
    "X_test  = pd.read_csv(\"data/X_test.csv\")\n",
    "y_test  = pd.read_csv(\"data/y_test.csv\")"
   ]
  },
  {
   "cell_type": "code",
   "execution_count": 44,
   "id": "e62dce7b",
   "metadata": {},
   "outputs": [
    {
     "name": "stdout",
     "output_type": "stream",
     "text": [
      "-- All features selected:  [1, 1, 1, 1, 1, 1, 1, 1, 1, 1, 1, 1, 1, 1, 1, 1, 1, 1, 1, 1] , F1 score =  0.3327360774818402\n"
     ]
    }
   ],
   "source": [
    "class patient_data:\n",
    "    NUM_FOLDS = 5\n",
    "\n",
    "    def __init__(self, randomSeed):\n",
    "        self.randomSeed = randomSeed\n",
    "        self.X = X_train\n",
    "        self.y = y_train.values.ravel() # Ensure y is 1D array\n",
    "        self.kfold = KFold(n_splits=self.NUM_FOLDS)\n",
    "        self.classifier = RandomForestClassifier(random_state=self.randomSeed)\n",
    "\n",
    "    def __len__(self):\n",
    "        return self.X.shape[1]\n",
    "\n",
    "    def get_mean_f1_score(self, zeroOneList):\n",
    "        indexes = [i for i, n in enumerate(zeroOneList) if n == 0]\n",
    "        current_X = self.X.drop(self.X.columns[indexes], axis=1)\n",
    "        cross_val_results = cross_val_score(self.classifier, current_X, self.y, cv=self.kfold, scoring='f1')\n",
    "        return cross_val_results.mean()\n",
    "\n",
    "def main():\n",
    "    p = patient_data(randomSeed=42)\n",
    "    allOnes = [1] * len(p)\n",
    "    print(\"-- All features selected: \", allOnes, \", F1 score = \", p.get_mean_f1_score(allOnes))\n",
    "\n",
    "if __name__ == \"__main__\":\n",
    "    main()"
   ]
  },
  {
   "cell_type": "code",
   "execution_count": null,
   "id": "08246d32",
   "metadata": {},
   "outputs": [],
   "source": []
  },
  {
   "cell_type": "code",
   "execution_count": 45,
   "id": "ad8bd716",
   "metadata": {},
   "outputs": [
    {
     "name": "stdout",
     "output_type": "stream",
     "text": [
      "Name: scikit-learn\n",
      "Version: 1.1.2\n",
      "Summary: A set of python modules for machine learning and data mining\n",
      "Home-page: http://scikit-learn.org\n",
      "Author: \n",
      "Author-email: \n",
      "License: new BSD\n",
      "Location: c:\\users\\satis\\anaconda3\\envs\\miniproject\\lib\\site-packages\n",
      "Requires: joblib, numpy, scipy, threadpoolctl\n",
      "Required-by: imbalanced-learn, lightgbm, lime, scikit-plot\n",
      "Note: you may need to restart the kernel to use updated packages.\n"
     ]
    }
   ],
   "source": [
    "pip show scikit-learn"
   ]
  },
  {
   "cell_type": "code",
   "execution_count": 46,
   "id": "9d950838",
   "metadata": {},
   "outputs": [],
   "source": [
    "def eaSimpleWithElitism(population, toolbox, cxpb, mutpb, ngen, stats=None,\n",
    "             halloffame=None, verbose=__debug__):\n",
    "    \n",
    "    logbook = tools.Logbook()\n",
    "    logbook.header = ['gen', 'nevals'] + (stats.fields if stats else [])\n",
    "\n",
    "    # Evaluate the individuals with an invalid fitness\n",
    "    invalid_ind = [ind for ind in population if not ind.fitness.valid]\n",
    "    fitnesses = toolbox.map(toolbox.evaluate, invalid_ind)\n",
    "    for ind, fit in zip(invalid_ind, fitnesses):\n",
    "        ind.fitness.values = fit\n",
    "\n",
    "    if halloffame is None:\n",
    "        raise ValueError(\"halloffame parameter must not be empty!\")\n",
    "\n",
    "    halloffame.update(population)\n",
    "    hof_size = len(halloffame.items) if halloffame.items else 0\n",
    "\n",
    "    record = stats.compile(population) if stats else {}\n",
    "    logbook.record(gen=0, nevals=len(invalid_ind), **record)\n",
    "    if verbose:\n",
    "        print(logbook.stream)\n",
    "\n",
    "    # Begin the generational process\n",
    "    for gen in range(1, ngen + 1):\n",
    "\n",
    "        # Select the next generation individuals\n",
    "        offspring = toolbox.select(population, len(population) - hof_size)\n",
    "\n",
    "        # Vary the pool of individuals with cross and mutation\n",
    "        offspring = algorithms.varAnd(offspring, toolbox, cxpb, mutpb)\n",
    "        #print(offspring)\n",
    "\n",
    "        \n",
    "        # Evaluate the individuals with an invalid fitness\n",
    "        invalid_ind = [ind for ind in offspring if not ind.fitness.valid]\n",
    "        fitnesses = toolbox.map(toolbox.evaluate, invalid_ind)\n",
    "        for ind, fit in zip(invalid_ind, fitnesses):\n",
    "            ind.fitness.values = fit\n",
    "\n",
    "        # add the best back to population:\n",
    "        offspring.extend(halloffame.items)\n",
    "\n",
    "        # Update the hall of fame with the generated individuals\n",
    "        halloffame.update(offspring)\n",
    "\n",
    "        # Replace the current population by the offspring\n",
    "        population[:] = offspring\n",
    "\n",
    "        # Append the current generation statistics to the logbook\n",
    "        record = stats.compile(population) if stats else {}\n",
    "        logbook.record(gen=gen, nevals=len(invalid_ind), **record)\n",
    "        if verbose:\n",
    "            print(logbook.stream)\n",
    "\n",
    "    return population, logbook"
   ]
  },
  {
   "cell_type": "code",
   "execution_count": 47,
   "id": "1470ebe9",
   "metadata": {},
   "outputs": [],
   "source": [
    "import random\n",
    "POPULATION_SIZE = 50\n",
    "P_CROSSOVER = 0.8  # probability for crossover\n",
    "P_MUTATION = 0.05   # probability for mutating an individual\n",
    "MAX_GENERATIONS = 100\n",
    "HALL_OF_FAME_SIZE = 10 # number of best selected individuals that will pass to the next generation\n",
    "\n",
    "TREAT_PENALTY_FACTOR = 0.003 #penalty of not selecting treatment\n",
    "FEATURE_PENALTY_FACTOR = 0.001 #penalty of not selecting a characteristic\n",
    "\n",
    "# set the random seed:\n",
    "RANDOM_SEED = 42\n",
    "random.seed(RANDOM_SEED)\n",
    "\n",
    "# create the Patient test class:\n",
    "patients = patient_data(RANDOM_SEED)"
   ]
  },
  {
   "cell_type": "code",
   "execution_count": 48,
   "id": "5b246b7d",
   "metadata": {},
   "outputs": [],
   "source": [
    "def randomm(): \n",
    "  list=[]\n",
    "  for i in range(len(patients)-4):\n",
    "    list.append(random.randint(0,1))\n",
    "\n",
    "  return list"
   ]
  },
  {
   "cell_type": "code",
   "execution_count": 49,
   "id": "6a6aac63",
   "metadata": {},
   "outputs": [],
   "source": [
    "def patient_f1_score(individual):\n",
    "     # number of treatments \n",
    "    numTreatUsed = sum(individual[-4:])\n",
    "    # number of characteristics present\n",
    "    numFeaturesUsed = sum(individual)\n",
    "    # calculate f1-score of the individual\n",
    "    f1score = patients.get_mean_f1_score(individual)\n",
    "    # return the fitness value of the individual\n",
    "    return f1score - (FEATURE_PENALTY_FACTOR * (len(patients) - numFeaturesUsed) + TREAT_PENALTY_FACTOR * (4-numTreatUsed)),  # return a tuple\n"
   ]
  },
  {
   "cell_type": "code",
   "execution_count": 50,
   "id": "d1c5cb86",
   "metadata": {},
   "outputs": [],
   "source": [
    "toolbox = base.Toolbox()\n",
    "\n",
    "creator.create(\"FitnessMax\", base.Fitness, weights=(1.0,))\n",
    "creator.create(\"Individual\", list, fitness=creator.FitnessMax)\n",
    "toolbox.register(\"individualCreator\", creator.Individual, randomm()+[1,1,1,1])\n",
    "toolbox.register(\"populationCreator\", tools.initRepeat, list, toolbox.individualCreator)\n",
    "toolbox.register(\"evaluate\",patient_f1_score)\n",
    "toolbox.register(\"select\", tools.selTournament, tournsize=3)\n",
    "toolbox.register(\"mate\", tools.cxTwoPoint)\n",
    "toolbox.register(\"mutate\", tools.mutFlipBit, indpb=1.0/len(patients))\n"
   ]
  },
  {
   "cell_type": "code",
   "execution_count": 51,
   "id": "9e89e664",
   "metadata": {},
   "outputs": [
    {
     "name": "stdout",
     "output_type": "stream",
     "text": [
      "gen\tnevals\tmax     \tavg     \tmin     \n",
      "0  \t50    \t0.289847\t0.289847\t0.289847\n",
      "1  \t30    \t0.289847\t0.288818\t0.246481\n",
      "2  \t46    \t0.289847\t0.288858\t0.246481\n",
      "3  \t42    \t0.289847\t0.288895\t0.246481\n",
      "4  \t25    \t0.297626\t0.289127\t0.246481\n"
     ]
    },
    {
     "ename": "KeyboardInterrupt",
     "evalue": "",
     "output_type": "error",
     "traceback": [
      "\u001b[1;31m---------------------------------------------------------------------------\u001b[0m",
      "\u001b[1;31mKeyboardInterrupt\u001b[0m                         Traceback (most recent call last)",
      "Cell \u001b[1;32mIn[51], line 52\u001b[0m\n\u001b[0;32m     49\u001b[0m     plt\u001b[38;5;241m.\u001b[39mshow()\n\u001b[0;32m     51\u001b[0m \u001b[38;5;28;01mif\u001b[39;00m \u001b[38;5;18m__name__\u001b[39m \u001b[38;5;241m==\u001b[39m \u001b[38;5;124m\"\u001b[39m\u001b[38;5;124m__main__\u001b[39m\u001b[38;5;124m\"\u001b[39m:\n\u001b[1;32m---> 52\u001b[0m     \u001b[43mmain\u001b[49m\u001b[43m(\u001b[49m\u001b[43m)\u001b[49m\n",
      "Cell \u001b[1;32mIn[51], line 20\u001b[0m, in \u001b[0;36mmain\u001b[1;34m()\u001b[0m\n\u001b[0;32m     17\u001b[0m hof \u001b[38;5;241m=\u001b[39m tools\u001b[38;5;241m.\u001b[39mHallOfFame(HALL_OF_FAME_SIZE)\n\u001b[0;32m     19\u001b[0m \u001b[38;5;66;03m# perform the Genetic Algorithm flow with hof feature added:\u001b[39;00m\n\u001b[1;32m---> 20\u001b[0m population, logbook \u001b[38;5;241m=\u001b[39m \u001b[43meaSimpleWithElitism\u001b[49m\u001b[43m(\u001b[49m\u001b[43mpopulation\u001b[49m\u001b[43m,\u001b[49m\u001b[43m \u001b[49m\u001b[43mtoolbox\u001b[49m\u001b[43m,\u001b[49m\u001b[43m \u001b[49m\u001b[43mcxpb\u001b[49m\u001b[38;5;241;43m=\u001b[39;49m\u001b[43mP_CROSSOVER\u001b[49m\u001b[43m,\u001b[49m\u001b[43m \u001b[49m\u001b[43mmutpb\u001b[49m\u001b[38;5;241;43m=\u001b[39;49m\u001b[43mP_MUTATION\u001b[49m\u001b[43m,\u001b[49m\n\u001b[0;32m     21\u001b[0m \u001b[43m                                                  \u001b[49m\u001b[43mngen\u001b[49m\u001b[38;5;241;43m=\u001b[39;49m\u001b[43mMAX_GENERATIONS\u001b[49m\u001b[43m,\u001b[49m\u001b[43m \u001b[49m\u001b[43mstats\u001b[49m\u001b[38;5;241;43m=\u001b[39;49m\u001b[43mstats\u001b[49m\u001b[43m,\u001b[49m\u001b[43m \u001b[49m\u001b[43mhalloffame\u001b[49m\u001b[38;5;241;43m=\u001b[39;49m\u001b[43mhof\u001b[49m\u001b[43m,\u001b[49m\u001b[43m \u001b[49m\u001b[43mverbose\u001b[49m\u001b[38;5;241;43m=\u001b[39;49m\u001b[38;5;28;43;01mTrue\u001b[39;49;00m\u001b[43m)\u001b[49m\n\u001b[0;32m     23\u001b[0m \u001b[38;5;66;03m# print best solution found:\u001b[39;00m\n\u001b[0;32m     24\u001b[0m \u001b[38;5;28mprint\u001b[39m(\u001b[38;5;124m\"\u001b[39m\u001b[38;5;124m- Best solutions are:\u001b[39m\u001b[38;5;124m\"\u001b[39m)\n",
      "Cell \u001b[1;32mIn[46], line 42\u001b[0m, in \u001b[0;36meaSimpleWithElitism\u001b[1;34m(population, toolbox, cxpb, mutpb, ngen, stats, halloffame, verbose)\u001b[0m\n\u001b[0;32m     40\u001b[0m invalid_ind \u001b[38;5;241m=\u001b[39m [ind \u001b[38;5;28;01mfor\u001b[39;00m ind \u001b[38;5;129;01min\u001b[39;00m offspring \u001b[38;5;28;01mif\u001b[39;00m \u001b[38;5;129;01mnot\u001b[39;00m ind\u001b[38;5;241m.\u001b[39mfitness\u001b[38;5;241m.\u001b[39mvalid]\n\u001b[0;32m     41\u001b[0m fitnesses \u001b[38;5;241m=\u001b[39m toolbox\u001b[38;5;241m.\u001b[39mmap(toolbox\u001b[38;5;241m.\u001b[39mevaluate, invalid_ind)\n\u001b[1;32m---> 42\u001b[0m \u001b[38;5;28;01mfor\u001b[39;00m ind, fit \u001b[38;5;129;01min\u001b[39;00m \u001b[38;5;28mzip\u001b[39m(invalid_ind, fitnesses):\n\u001b[0;32m     43\u001b[0m     ind\u001b[38;5;241m.\u001b[39mfitness\u001b[38;5;241m.\u001b[39mvalues \u001b[38;5;241m=\u001b[39m fit\n\u001b[0;32m     45\u001b[0m \u001b[38;5;66;03m# add the best back to population:\u001b[39;00m\n",
      "Cell \u001b[1;32mIn[49], line 10\u001b[0m, in \u001b[0;36mpatient_f1_score\u001b[1;34m(individual)\u001b[0m\n\u001b[0;32m      7\u001b[0m numFeaturesUsed \u001b[38;5;241m=\u001b[39m \u001b[38;5;28msum\u001b[39m(individual)\n\u001b[0;32m      9\u001b[0m \u001b[38;5;66;03m# calculate f1-score of the individual\u001b[39;00m\n\u001b[1;32m---> 10\u001b[0m f1score \u001b[38;5;241m=\u001b[39m \u001b[43mpatients\u001b[49m\u001b[38;5;241;43m.\u001b[39;49m\u001b[43mget_mean_f1_score\u001b[49m\u001b[43m(\u001b[49m\u001b[43mindividual\u001b[49m\u001b[43m)\u001b[49m\n\u001b[0;32m     12\u001b[0m \u001b[38;5;66;03m# return the fitness value of the individual\u001b[39;00m\n\u001b[0;32m     13\u001b[0m \u001b[38;5;28;01mreturn\u001b[39;00m f1score \u001b[38;5;241m-\u001b[39m (FEATURE_PENALTY_FACTOR \u001b[38;5;241m*\u001b[39m (\u001b[38;5;28mlen\u001b[39m(patients) \u001b[38;5;241m-\u001b[39m numFeaturesUsed) \u001b[38;5;241m+\u001b[39m TREAT_PENALTY_FACTOR \u001b[38;5;241m*\u001b[39m (\u001b[38;5;241m4\u001b[39m\u001b[38;5;241m-\u001b[39mnumTreatUsed)),\n",
      "Cell \u001b[1;32mIn[44], line 17\u001b[0m, in \u001b[0;36mpatient_data.get_mean_f1_score\u001b[1;34m(self, zeroOneList)\u001b[0m\n\u001b[0;32m     15\u001b[0m indexes \u001b[38;5;241m=\u001b[39m [i \u001b[38;5;28;01mfor\u001b[39;00m i, n \u001b[38;5;129;01min\u001b[39;00m \u001b[38;5;28menumerate\u001b[39m(zeroOneList) \u001b[38;5;28;01mif\u001b[39;00m n \u001b[38;5;241m==\u001b[39m \u001b[38;5;241m0\u001b[39m]\n\u001b[0;32m     16\u001b[0m current_X \u001b[38;5;241m=\u001b[39m \u001b[38;5;28mself\u001b[39m\u001b[38;5;241m.\u001b[39mX\u001b[38;5;241m.\u001b[39mdrop(\u001b[38;5;28mself\u001b[39m\u001b[38;5;241m.\u001b[39mX\u001b[38;5;241m.\u001b[39mcolumns[indexes], axis\u001b[38;5;241m=\u001b[39m\u001b[38;5;241m1\u001b[39m)\n\u001b[1;32m---> 17\u001b[0m cross_val_results \u001b[38;5;241m=\u001b[39m \u001b[43mcross_val_score\u001b[49m\u001b[43m(\u001b[49m\u001b[38;5;28;43mself\u001b[39;49m\u001b[38;5;241;43m.\u001b[39;49m\u001b[43mclassifier\u001b[49m\u001b[43m,\u001b[49m\u001b[43m \u001b[49m\u001b[43mcurrent_X\u001b[49m\u001b[43m,\u001b[49m\u001b[43m \u001b[49m\u001b[38;5;28;43mself\u001b[39;49m\u001b[38;5;241;43m.\u001b[39;49m\u001b[43my\u001b[49m\u001b[43m,\u001b[49m\u001b[43m \u001b[49m\u001b[43mcv\u001b[49m\u001b[38;5;241;43m=\u001b[39;49m\u001b[38;5;28;43mself\u001b[39;49m\u001b[38;5;241;43m.\u001b[39;49m\u001b[43mkfold\u001b[49m\u001b[43m,\u001b[49m\u001b[43m \u001b[49m\u001b[43mscoring\u001b[49m\u001b[38;5;241;43m=\u001b[39;49m\u001b[38;5;124;43m'\u001b[39;49m\u001b[38;5;124;43mf1\u001b[39;49m\u001b[38;5;124;43m'\u001b[39;49m\u001b[43m)\u001b[49m\n\u001b[0;32m     18\u001b[0m \u001b[38;5;28;01mreturn\u001b[39;00m cross_val_results\u001b[38;5;241m.\u001b[39mmean()\n",
      "File \u001b[1;32m~\\anaconda3\\envs\\Miniproject\\lib\\site-packages\\sklearn\\model_selection\\_validation.py:515\u001b[0m, in \u001b[0;36mcross_val_score\u001b[1;34m(estimator, X, y, groups, scoring, cv, n_jobs, verbose, fit_params, pre_dispatch, error_score)\u001b[0m\n\u001b[0;32m    512\u001b[0m \u001b[38;5;66;03m# To ensure multimetric format is not supported\u001b[39;00m\n\u001b[0;32m    513\u001b[0m scorer \u001b[38;5;241m=\u001b[39m check_scoring(estimator, scoring\u001b[38;5;241m=\u001b[39mscoring)\n\u001b[1;32m--> 515\u001b[0m cv_results \u001b[38;5;241m=\u001b[39m \u001b[43mcross_validate\u001b[49m\u001b[43m(\u001b[49m\n\u001b[0;32m    516\u001b[0m \u001b[43m    \u001b[49m\u001b[43mestimator\u001b[49m\u001b[38;5;241;43m=\u001b[39;49m\u001b[43mestimator\u001b[49m\u001b[43m,\u001b[49m\n\u001b[0;32m    517\u001b[0m \u001b[43m    \u001b[49m\u001b[43mX\u001b[49m\u001b[38;5;241;43m=\u001b[39;49m\u001b[43mX\u001b[49m\u001b[43m,\u001b[49m\n\u001b[0;32m    518\u001b[0m \u001b[43m    \u001b[49m\u001b[43my\u001b[49m\u001b[38;5;241;43m=\u001b[39;49m\u001b[43my\u001b[49m\u001b[43m,\u001b[49m\n\u001b[0;32m    519\u001b[0m \u001b[43m    \u001b[49m\u001b[43mgroups\u001b[49m\u001b[38;5;241;43m=\u001b[39;49m\u001b[43mgroups\u001b[49m\u001b[43m,\u001b[49m\n\u001b[0;32m    520\u001b[0m \u001b[43m    \u001b[49m\u001b[43mscoring\u001b[49m\u001b[38;5;241;43m=\u001b[39;49m\u001b[43m{\u001b[49m\u001b[38;5;124;43m\"\u001b[39;49m\u001b[38;5;124;43mscore\u001b[39;49m\u001b[38;5;124;43m\"\u001b[39;49m\u001b[43m:\u001b[49m\u001b[43m \u001b[49m\u001b[43mscorer\u001b[49m\u001b[43m}\u001b[49m\u001b[43m,\u001b[49m\n\u001b[0;32m    521\u001b[0m \u001b[43m    \u001b[49m\u001b[43mcv\u001b[49m\u001b[38;5;241;43m=\u001b[39;49m\u001b[43mcv\u001b[49m\u001b[43m,\u001b[49m\n\u001b[0;32m    522\u001b[0m \u001b[43m    \u001b[49m\u001b[43mn_jobs\u001b[49m\u001b[38;5;241;43m=\u001b[39;49m\u001b[43mn_jobs\u001b[49m\u001b[43m,\u001b[49m\n\u001b[0;32m    523\u001b[0m \u001b[43m    \u001b[49m\u001b[43mverbose\u001b[49m\u001b[38;5;241;43m=\u001b[39;49m\u001b[43mverbose\u001b[49m\u001b[43m,\u001b[49m\n\u001b[0;32m    524\u001b[0m \u001b[43m    \u001b[49m\u001b[43mfit_params\u001b[49m\u001b[38;5;241;43m=\u001b[39;49m\u001b[43mfit_params\u001b[49m\u001b[43m,\u001b[49m\n\u001b[0;32m    525\u001b[0m \u001b[43m    \u001b[49m\u001b[43mpre_dispatch\u001b[49m\u001b[38;5;241;43m=\u001b[39;49m\u001b[43mpre_dispatch\u001b[49m\u001b[43m,\u001b[49m\n\u001b[0;32m    526\u001b[0m \u001b[43m    \u001b[49m\u001b[43merror_score\u001b[49m\u001b[38;5;241;43m=\u001b[39;49m\u001b[43merror_score\u001b[49m\u001b[43m,\u001b[49m\n\u001b[0;32m    527\u001b[0m \u001b[43m\u001b[49m\u001b[43m)\u001b[49m\n\u001b[0;32m    528\u001b[0m \u001b[38;5;28;01mreturn\u001b[39;00m cv_results[\u001b[38;5;124m\"\u001b[39m\u001b[38;5;124mtest_score\u001b[39m\u001b[38;5;124m\"\u001b[39m]\n",
      "File \u001b[1;32m~\\anaconda3\\envs\\Miniproject\\lib\\site-packages\\sklearn\\model_selection\\_validation.py:266\u001b[0m, in \u001b[0;36mcross_validate\u001b[1;34m(estimator, X, y, groups, scoring, cv, n_jobs, verbose, fit_params, pre_dispatch, return_train_score, return_estimator, error_score)\u001b[0m\n\u001b[0;32m    263\u001b[0m \u001b[38;5;66;03m# We clone the estimator to make sure that all the folds are\u001b[39;00m\n\u001b[0;32m    264\u001b[0m \u001b[38;5;66;03m# independent, and that it is pickle-able.\u001b[39;00m\n\u001b[0;32m    265\u001b[0m parallel \u001b[38;5;241m=\u001b[39m Parallel(n_jobs\u001b[38;5;241m=\u001b[39mn_jobs, verbose\u001b[38;5;241m=\u001b[39mverbose, pre_dispatch\u001b[38;5;241m=\u001b[39mpre_dispatch)\n\u001b[1;32m--> 266\u001b[0m results \u001b[38;5;241m=\u001b[39m \u001b[43mparallel\u001b[49m\u001b[43m(\u001b[49m\n\u001b[0;32m    267\u001b[0m \u001b[43m    \u001b[49m\u001b[43mdelayed\u001b[49m\u001b[43m(\u001b[49m\u001b[43m_fit_and_score\u001b[49m\u001b[43m)\u001b[49m\u001b[43m(\u001b[49m\n\u001b[0;32m    268\u001b[0m \u001b[43m        \u001b[49m\u001b[43mclone\u001b[49m\u001b[43m(\u001b[49m\u001b[43mestimator\u001b[49m\u001b[43m)\u001b[49m\u001b[43m,\u001b[49m\n\u001b[0;32m    269\u001b[0m \u001b[43m        \u001b[49m\u001b[43mX\u001b[49m\u001b[43m,\u001b[49m\n\u001b[0;32m    270\u001b[0m \u001b[43m        \u001b[49m\u001b[43my\u001b[49m\u001b[43m,\u001b[49m\n\u001b[0;32m    271\u001b[0m \u001b[43m        \u001b[49m\u001b[43mscorers\u001b[49m\u001b[43m,\u001b[49m\n\u001b[0;32m    272\u001b[0m \u001b[43m        \u001b[49m\u001b[43mtrain\u001b[49m\u001b[43m,\u001b[49m\n\u001b[0;32m    273\u001b[0m \u001b[43m        \u001b[49m\u001b[43mtest\u001b[49m\u001b[43m,\u001b[49m\n\u001b[0;32m    274\u001b[0m \u001b[43m        \u001b[49m\u001b[43mverbose\u001b[49m\u001b[43m,\u001b[49m\n\u001b[0;32m    275\u001b[0m \u001b[43m        \u001b[49m\u001b[38;5;28;43;01mNone\u001b[39;49;00m\u001b[43m,\u001b[49m\n\u001b[0;32m    276\u001b[0m \u001b[43m        \u001b[49m\u001b[43mfit_params\u001b[49m\u001b[43m,\u001b[49m\n\u001b[0;32m    277\u001b[0m \u001b[43m        \u001b[49m\u001b[43mreturn_train_score\u001b[49m\u001b[38;5;241;43m=\u001b[39;49m\u001b[43mreturn_train_score\u001b[49m\u001b[43m,\u001b[49m\n\u001b[0;32m    278\u001b[0m \u001b[43m        \u001b[49m\u001b[43mreturn_times\u001b[49m\u001b[38;5;241;43m=\u001b[39;49m\u001b[38;5;28;43;01mTrue\u001b[39;49;00m\u001b[43m,\u001b[49m\n\u001b[0;32m    279\u001b[0m \u001b[43m        \u001b[49m\u001b[43mreturn_estimator\u001b[49m\u001b[38;5;241;43m=\u001b[39;49m\u001b[43mreturn_estimator\u001b[49m\u001b[43m,\u001b[49m\n\u001b[0;32m    280\u001b[0m \u001b[43m        \u001b[49m\u001b[43merror_score\u001b[49m\u001b[38;5;241;43m=\u001b[39;49m\u001b[43merror_score\u001b[49m\u001b[43m,\u001b[49m\n\u001b[0;32m    281\u001b[0m \u001b[43m    \u001b[49m\u001b[43m)\u001b[49m\n\u001b[0;32m    282\u001b[0m \u001b[43m    \u001b[49m\u001b[38;5;28;43;01mfor\u001b[39;49;00m\u001b[43m \u001b[49m\u001b[43mtrain\u001b[49m\u001b[43m,\u001b[49m\u001b[43m \u001b[49m\u001b[43mtest\u001b[49m\u001b[43m \u001b[49m\u001b[38;5;129;43;01min\u001b[39;49;00m\u001b[43m \u001b[49m\u001b[43mcv\u001b[49m\u001b[38;5;241;43m.\u001b[39;49m\u001b[43msplit\u001b[49m\u001b[43m(\u001b[49m\u001b[43mX\u001b[49m\u001b[43m,\u001b[49m\u001b[43m \u001b[49m\u001b[43my\u001b[49m\u001b[43m,\u001b[49m\u001b[43m \u001b[49m\u001b[43mgroups\u001b[49m\u001b[43m)\u001b[49m\n\u001b[0;32m    283\u001b[0m \u001b[43m\u001b[49m\u001b[43m)\u001b[49m\n\u001b[0;32m    285\u001b[0m _warn_or_raise_about_fit_failures(results, error_score)\n\u001b[0;32m    287\u001b[0m \u001b[38;5;66;03m# For callabe scoring, the return type is only know after calling. If the\u001b[39;00m\n\u001b[0;32m    288\u001b[0m \u001b[38;5;66;03m# return type is a dictionary, the error scores can now be inserted with\u001b[39;00m\n\u001b[0;32m    289\u001b[0m \u001b[38;5;66;03m# the correct key.\u001b[39;00m\n",
      "File \u001b[1;32m~\\anaconda3\\envs\\Miniproject\\lib\\site-packages\\joblib\\parallel.py:1088\u001b[0m, in \u001b[0;36mParallel.__call__\u001b[1;34m(self, iterable)\u001b[0m\n\u001b[0;32m   1085\u001b[0m \u001b[38;5;28;01mif\u001b[39;00m \u001b[38;5;28mself\u001b[39m\u001b[38;5;241m.\u001b[39mdispatch_one_batch(iterator):\n\u001b[0;32m   1086\u001b[0m     \u001b[38;5;28mself\u001b[39m\u001b[38;5;241m.\u001b[39m_iterating \u001b[38;5;241m=\u001b[39m \u001b[38;5;28mself\u001b[39m\u001b[38;5;241m.\u001b[39m_original_iterator \u001b[38;5;129;01mis\u001b[39;00m \u001b[38;5;129;01mnot\u001b[39;00m \u001b[38;5;28;01mNone\u001b[39;00m\n\u001b[1;32m-> 1088\u001b[0m \u001b[38;5;28;01mwhile\u001b[39;00m \u001b[38;5;28;43mself\u001b[39;49m\u001b[38;5;241;43m.\u001b[39;49m\u001b[43mdispatch_one_batch\u001b[49m\u001b[43m(\u001b[49m\u001b[43miterator\u001b[49m\u001b[43m)\u001b[49m:\n\u001b[0;32m   1089\u001b[0m     \u001b[38;5;28;01mpass\u001b[39;00m\n\u001b[0;32m   1091\u001b[0m \u001b[38;5;28;01mif\u001b[39;00m pre_dispatch \u001b[38;5;241m==\u001b[39m \u001b[38;5;124m\"\u001b[39m\u001b[38;5;124mall\u001b[39m\u001b[38;5;124m\"\u001b[39m \u001b[38;5;129;01mor\u001b[39;00m n_jobs \u001b[38;5;241m==\u001b[39m \u001b[38;5;241m1\u001b[39m:\n\u001b[0;32m   1092\u001b[0m     \u001b[38;5;66;03m# The iterable was consumed all at once by the above for loop.\u001b[39;00m\n\u001b[0;32m   1093\u001b[0m     \u001b[38;5;66;03m# No need to wait for async callbacks to trigger to\u001b[39;00m\n\u001b[0;32m   1094\u001b[0m     \u001b[38;5;66;03m# consumption.\u001b[39;00m\n",
      "File \u001b[1;32m~\\anaconda3\\envs\\Miniproject\\lib\\site-packages\\joblib\\parallel.py:901\u001b[0m, in \u001b[0;36mParallel.dispatch_one_batch\u001b[1;34m(self, iterator)\u001b[0m\n\u001b[0;32m    899\u001b[0m     \u001b[38;5;28;01mreturn\u001b[39;00m \u001b[38;5;28;01mFalse\u001b[39;00m\n\u001b[0;32m    900\u001b[0m \u001b[38;5;28;01melse\u001b[39;00m:\n\u001b[1;32m--> 901\u001b[0m     \u001b[38;5;28;43mself\u001b[39;49m\u001b[38;5;241;43m.\u001b[39;49m\u001b[43m_dispatch\u001b[49m\u001b[43m(\u001b[49m\u001b[43mtasks\u001b[49m\u001b[43m)\u001b[49m\n\u001b[0;32m    902\u001b[0m     \u001b[38;5;28;01mreturn\u001b[39;00m \u001b[38;5;28;01mTrue\u001b[39;00m\n",
      "File \u001b[1;32m~\\anaconda3\\envs\\Miniproject\\lib\\site-packages\\joblib\\parallel.py:819\u001b[0m, in \u001b[0;36mParallel._dispatch\u001b[1;34m(self, batch)\u001b[0m\n\u001b[0;32m    817\u001b[0m \u001b[38;5;28;01mwith\u001b[39;00m \u001b[38;5;28mself\u001b[39m\u001b[38;5;241m.\u001b[39m_lock:\n\u001b[0;32m    818\u001b[0m     job_idx \u001b[38;5;241m=\u001b[39m \u001b[38;5;28mlen\u001b[39m(\u001b[38;5;28mself\u001b[39m\u001b[38;5;241m.\u001b[39m_jobs)\n\u001b[1;32m--> 819\u001b[0m     job \u001b[38;5;241m=\u001b[39m \u001b[38;5;28;43mself\u001b[39;49m\u001b[38;5;241;43m.\u001b[39;49m\u001b[43m_backend\u001b[49m\u001b[38;5;241;43m.\u001b[39;49m\u001b[43mapply_async\u001b[49m\u001b[43m(\u001b[49m\u001b[43mbatch\u001b[49m\u001b[43m,\u001b[49m\u001b[43m \u001b[49m\u001b[43mcallback\u001b[49m\u001b[38;5;241;43m=\u001b[39;49m\u001b[43mcb\u001b[49m\u001b[43m)\u001b[49m\n\u001b[0;32m    820\u001b[0m     \u001b[38;5;66;03m# A job can complete so quickly than its callback is\u001b[39;00m\n\u001b[0;32m    821\u001b[0m     \u001b[38;5;66;03m# called before we get here, causing self._jobs to\u001b[39;00m\n\u001b[0;32m    822\u001b[0m     \u001b[38;5;66;03m# grow. To ensure correct results ordering, .insert is\u001b[39;00m\n\u001b[0;32m    823\u001b[0m     \u001b[38;5;66;03m# used (rather than .append) in the following line\u001b[39;00m\n\u001b[0;32m    824\u001b[0m     \u001b[38;5;28mself\u001b[39m\u001b[38;5;241m.\u001b[39m_jobs\u001b[38;5;241m.\u001b[39minsert(job_idx, job)\n",
      "File \u001b[1;32m~\\anaconda3\\envs\\Miniproject\\lib\\site-packages\\joblib\\_parallel_backends.py:208\u001b[0m, in \u001b[0;36mSequentialBackend.apply_async\u001b[1;34m(self, func, callback)\u001b[0m\n\u001b[0;32m    206\u001b[0m \u001b[38;5;28;01mdef\u001b[39;00m \u001b[38;5;21mapply_async\u001b[39m(\u001b[38;5;28mself\u001b[39m, func, callback\u001b[38;5;241m=\u001b[39m\u001b[38;5;28;01mNone\u001b[39;00m):\n\u001b[0;32m    207\u001b[0m \u001b[38;5;250m    \u001b[39m\u001b[38;5;124;03m\"\"\"Schedule a func to be run\"\"\"\u001b[39;00m\n\u001b[1;32m--> 208\u001b[0m     result \u001b[38;5;241m=\u001b[39m \u001b[43mImmediateResult\u001b[49m\u001b[43m(\u001b[49m\u001b[43mfunc\u001b[49m\u001b[43m)\u001b[49m\n\u001b[0;32m    209\u001b[0m     \u001b[38;5;28;01mif\u001b[39;00m callback:\n\u001b[0;32m    210\u001b[0m         callback(result)\n",
      "File \u001b[1;32m~\\anaconda3\\envs\\Miniproject\\lib\\site-packages\\joblib\\_parallel_backends.py:597\u001b[0m, in \u001b[0;36mImmediateResult.__init__\u001b[1;34m(self, batch)\u001b[0m\n\u001b[0;32m    594\u001b[0m \u001b[38;5;28;01mdef\u001b[39;00m \u001b[38;5;21m__init__\u001b[39m(\u001b[38;5;28mself\u001b[39m, batch):\n\u001b[0;32m    595\u001b[0m     \u001b[38;5;66;03m# Don't delay the application, to avoid keeping the input\u001b[39;00m\n\u001b[0;32m    596\u001b[0m     \u001b[38;5;66;03m# arguments in memory\u001b[39;00m\n\u001b[1;32m--> 597\u001b[0m     \u001b[38;5;28mself\u001b[39m\u001b[38;5;241m.\u001b[39mresults \u001b[38;5;241m=\u001b[39m \u001b[43mbatch\u001b[49m\u001b[43m(\u001b[49m\u001b[43m)\u001b[49m\n",
      "File \u001b[1;32m~\\anaconda3\\envs\\Miniproject\\lib\\site-packages\\joblib\\parallel.py:288\u001b[0m, in \u001b[0;36mBatchedCalls.__call__\u001b[1;34m(self)\u001b[0m\n\u001b[0;32m    284\u001b[0m \u001b[38;5;28;01mdef\u001b[39;00m \u001b[38;5;21m__call__\u001b[39m(\u001b[38;5;28mself\u001b[39m):\n\u001b[0;32m    285\u001b[0m     \u001b[38;5;66;03m# Set the default nested backend to self._backend but do not set the\u001b[39;00m\n\u001b[0;32m    286\u001b[0m     \u001b[38;5;66;03m# change the default number of processes to -1\u001b[39;00m\n\u001b[0;32m    287\u001b[0m     \u001b[38;5;28;01mwith\u001b[39;00m parallel_backend(\u001b[38;5;28mself\u001b[39m\u001b[38;5;241m.\u001b[39m_backend, n_jobs\u001b[38;5;241m=\u001b[39m\u001b[38;5;28mself\u001b[39m\u001b[38;5;241m.\u001b[39m_n_jobs):\n\u001b[1;32m--> 288\u001b[0m         \u001b[38;5;28;01mreturn\u001b[39;00m [func(\u001b[38;5;241m*\u001b[39margs, \u001b[38;5;241m*\u001b[39m\u001b[38;5;241m*\u001b[39mkwargs)\n\u001b[0;32m    289\u001b[0m                 \u001b[38;5;28;01mfor\u001b[39;00m func, args, kwargs \u001b[38;5;129;01min\u001b[39;00m \u001b[38;5;28mself\u001b[39m\u001b[38;5;241m.\u001b[39mitems]\n",
      "File \u001b[1;32m~\\anaconda3\\envs\\Miniproject\\lib\\site-packages\\joblib\\parallel.py:288\u001b[0m, in \u001b[0;36m<listcomp>\u001b[1;34m(.0)\u001b[0m\n\u001b[0;32m    284\u001b[0m \u001b[38;5;28;01mdef\u001b[39;00m \u001b[38;5;21m__call__\u001b[39m(\u001b[38;5;28mself\u001b[39m):\n\u001b[0;32m    285\u001b[0m     \u001b[38;5;66;03m# Set the default nested backend to self._backend but do not set the\u001b[39;00m\n\u001b[0;32m    286\u001b[0m     \u001b[38;5;66;03m# change the default number of processes to -1\u001b[39;00m\n\u001b[0;32m    287\u001b[0m     \u001b[38;5;28;01mwith\u001b[39;00m parallel_backend(\u001b[38;5;28mself\u001b[39m\u001b[38;5;241m.\u001b[39m_backend, n_jobs\u001b[38;5;241m=\u001b[39m\u001b[38;5;28mself\u001b[39m\u001b[38;5;241m.\u001b[39m_n_jobs):\n\u001b[1;32m--> 288\u001b[0m         \u001b[38;5;28;01mreturn\u001b[39;00m [func(\u001b[38;5;241m*\u001b[39margs, \u001b[38;5;241m*\u001b[39m\u001b[38;5;241m*\u001b[39mkwargs)\n\u001b[0;32m    289\u001b[0m                 \u001b[38;5;28;01mfor\u001b[39;00m func, args, kwargs \u001b[38;5;129;01min\u001b[39;00m \u001b[38;5;28mself\u001b[39m\u001b[38;5;241m.\u001b[39mitems]\n",
      "File \u001b[1;32m~\\anaconda3\\envs\\Miniproject\\lib\\site-packages\\sklearn\\utils\\fixes.py:117\u001b[0m, in \u001b[0;36m_FuncWrapper.__call__\u001b[1;34m(self, *args, **kwargs)\u001b[0m\n\u001b[0;32m    115\u001b[0m \u001b[38;5;28;01mdef\u001b[39;00m \u001b[38;5;21m__call__\u001b[39m(\u001b[38;5;28mself\u001b[39m, \u001b[38;5;241m*\u001b[39margs, \u001b[38;5;241m*\u001b[39m\u001b[38;5;241m*\u001b[39mkwargs):\n\u001b[0;32m    116\u001b[0m     \u001b[38;5;28;01mwith\u001b[39;00m config_context(\u001b[38;5;241m*\u001b[39m\u001b[38;5;241m*\u001b[39m\u001b[38;5;28mself\u001b[39m\u001b[38;5;241m.\u001b[39mconfig):\n\u001b[1;32m--> 117\u001b[0m         \u001b[38;5;28;01mreturn\u001b[39;00m \u001b[38;5;28mself\u001b[39m\u001b[38;5;241m.\u001b[39mfunction(\u001b[38;5;241m*\u001b[39margs, \u001b[38;5;241m*\u001b[39m\u001b[38;5;241m*\u001b[39mkwargs)\n",
      "File \u001b[1;32m~\\anaconda3\\envs\\Miniproject\\lib\\site-packages\\sklearn\\model_selection\\_validation.py:686\u001b[0m, in \u001b[0;36m_fit_and_score\u001b[1;34m(estimator, X, y, scorer, train, test, verbose, parameters, fit_params, return_train_score, return_parameters, return_n_test_samples, return_times, return_estimator, split_progress, candidate_progress, error_score)\u001b[0m\n\u001b[0;32m    684\u001b[0m         estimator\u001b[38;5;241m.\u001b[39mfit(X_train, \u001b[38;5;241m*\u001b[39m\u001b[38;5;241m*\u001b[39mfit_params)\n\u001b[0;32m    685\u001b[0m     \u001b[38;5;28;01melse\u001b[39;00m:\n\u001b[1;32m--> 686\u001b[0m         estimator\u001b[38;5;241m.\u001b[39mfit(X_train, y_train, \u001b[38;5;241m*\u001b[39m\u001b[38;5;241m*\u001b[39mfit_params)\n\u001b[0;32m    688\u001b[0m \u001b[38;5;28;01mexcept\u001b[39;00m \u001b[38;5;167;01mException\u001b[39;00m:\n\u001b[0;32m    689\u001b[0m     \u001b[38;5;66;03m# Note fit time as time until error\u001b[39;00m\n\u001b[0;32m    690\u001b[0m     fit_time \u001b[38;5;241m=\u001b[39m time\u001b[38;5;241m.\u001b[39mtime() \u001b[38;5;241m-\u001b[39m start_time\n",
      "File \u001b[1;32m~\\anaconda3\\envs\\Miniproject\\lib\\site-packages\\sklearn\\ensemble\\_forest.py:476\u001b[0m, in \u001b[0;36mBaseForest.fit\u001b[1;34m(self, X, y, sample_weight)\u001b[0m\n\u001b[0;32m    465\u001b[0m trees \u001b[38;5;241m=\u001b[39m [\n\u001b[0;32m    466\u001b[0m     \u001b[38;5;28mself\u001b[39m\u001b[38;5;241m.\u001b[39m_make_estimator(append\u001b[38;5;241m=\u001b[39m\u001b[38;5;28;01mFalse\u001b[39;00m, random_state\u001b[38;5;241m=\u001b[39mrandom_state)\n\u001b[0;32m    467\u001b[0m     \u001b[38;5;28;01mfor\u001b[39;00m i \u001b[38;5;129;01min\u001b[39;00m \u001b[38;5;28mrange\u001b[39m(n_more_estimators)\n\u001b[0;32m    468\u001b[0m ]\n\u001b[0;32m    470\u001b[0m \u001b[38;5;66;03m# Parallel loop: we prefer the threading backend as the Cython code\u001b[39;00m\n\u001b[0;32m    471\u001b[0m \u001b[38;5;66;03m# for fitting the trees is internally releasing the Python GIL\u001b[39;00m\n\u001b[0;32m    472\u001b[0m \u001b[38;5;66;03m# making threading more efficient than multiprocessing in\u001b[39;00m\n\u001b[0;32m    473\u001b[0m \u001b[38;5;66;03m# that case. However, for joblib 0.12+ we respect any\u001b[39;00m\n\u001b[0;32m    474\u001b[0m \u001b[38;5;66;03m# parallel_backend contexts set at a higher level,\u001b[39;00m\n\u001b[0;32m    475\u001b[0m \u001b[38;5;66;03m# since correctness does not rely on using threads.\u001b[39;00m\n\u001b[1;32m--> 476\u001b[0m trees \u001b[38;5;241m=\u001b[39m \u001b[43mParallel\u001b[49m\u001b[43m(\u001b[49m\n\u001b[0;32m    477\u001b[0m \u001b[43m    \u001b[49m\u001b[43mn_jobs\u001b[49m\u001b[38;5;241;43m=\u001b[39;49m\u001b[38;5;28;43mself\u001b[39;49m\u001b[38;5;241;43m.\u001b[39;49m\u001b[43mn_jobs\u001b[49m\u001b[43m,\u001b[49m\n\u001b[0;32m    478\u001b[0m \u001b[43m    \u001b[49m\u001b[43mverbose\u001b[49m\u001b[38;5;241;43m=\u001b[39;49m\u001b[38;5;28;43mself\u001b[39;49m\u001b[38;5;241;43m.\u001b[39;49m\u001b[43mverbose\u001b[49m\u001b[43m,\u001b[49m\n\u001b[0;32m    479\u001b[0m \u001b[43m    \u001b[49m\u001b[43mprefer\u001b[49m\u001b[38;5;241;43m=\u001b[39;49m\u001b[38;5;124;43m\"\u001b[39;49m\u001b[38;5;124;43mthreads\u001b[39;49m\u001b[38;5;124;43m\"\u001b[39;49m\u001b[43m,\u001b[49m\n\u001b[0;32m    480\u001b[0m \u001b[43m\u001b[49m\u001b[43m)\u001b[49m\u001b[43m(\u001b[49m\n\u001b[0;32m    481\u001b[0m \u001b[43m    \u001b[49m\u001b[43mdelayed\u001b[49m\u001b[43m(\u001b[49m\u001b[43m_parallel_build_trees\u001b[49m\u001b[43m)\u001b[49m\u001b[43m(\u001b[49m\n\u001b[0;32m    482\u001b[0m \u001b[43m        \u001b[49m\u001b[43mt\u001b[49m\u001b[43m,\u001b[49m\n\u001b[0;32m    483\u001b[0m \u001b[43m        \u001b[49m\u001b[38;5;28;43mself\u001b[39;49m\u001b[38;5;241;43m.\u001b[39;49m\u001b[43mbootstrap\u001b[49m\u001b[43m,\u001b[49m\n\u001b[0;32m    484\u001b[0m \u001b[43m        \u001b[49m\u001b[43mX\u001b[49m\u001b[43m,\u001b[49m\n\u001b[0;32m    485\u001b[0m \u001b[43m        \u001b[49m\u001b[43my\u001b[49m\u001b[43m,\u001b[49m\n\u001b[0;32m    486\u001b[0m \u001b[43m        \u001b[49m\u001b[43msample_weight\u001b[49m\u001b[43m,\u001b[49m\n\u001b[0;32m    487\u001b[0m \u001b[43m        \u001b[49m\u001b[43mi\u001b[49m\u001b[43m,\u001b[49m\n\u001b[0;32m    488\u001b[0m \u001b[43m        \u001b[49m\u001b[38;5;28;43mlen\u001b[39;49m\u001b[43m(\u001b[49m\u001b[43mtrees\u001b[49m\u001b[43m)\u001b[49m\u001b[43m,\u001b[49m\n\u001b[0;32m    489\u001b[0m \u001b[43m        \u001b[49m\u001b[43mverbose\u001b[49m\u001b[38;5;241;43m=\u001b[39;49m\u001b[38;5;28;43mself\u001b[39;49m\u001b[38;5;241;43m.\u001b[39;49m\u001b[43mverbose\u001b[49m\u001b[43m,\u001b[49m\n\u001b[0;32m    490\u001b[0m \u001b[43m        \u001b[49m\u001b[43mclass_weight\u001b[49m\u001b[38;5;241;43m=\u001b[39;49m\u001b[38;5;28;43mself\u001b[39;49m\u001b[38;5;241;43m.\u001b[39;49m\u001b[43mclass_weight\u001b[49m\u001b[43m,\u001b[49m\n\u001b[0;32m    491\u001b[0m \u001b[43m        \u001b[49m\u001b[43mn_samples_bootstrap\u001b[49m\u001b[38;5;241;43m=\u001b[39;49m\u001b[43mn_samples_bootstrap\u001b[49m\u001b[43m,\u001b[49m\n\u001b[0;32m    492\u001b[0m \u001b[43m    \u001b[49m\u001b[43m)\u001b[49m\n\u001b[0;32m    493\u001b[0m \u001b[43m    \u001b[49m\u001b[38;5;28;43;01mfor\u001b[39;49;00m\u001b[43m \u001b[49m\u001b[43mi\u001b[49m\u001b[43m,\u001b[49m\u001b[43m \u001b[49m\u001b[43mt\u001b[49m\u001b[43m \u001b[49m\u001b[38;5;129;43;01min\u001b[39;49;00m\u001b[43m \u001b[49m\u001b[38;5;28;43menumerate\u001b[39;49m\u001b[43m(\u001b[49m\u001b[43mtrees\u001b[49m\u001b[43m)\u001b[49m\n\u001b[0;32m    494\u001b[0m \u001b[43m\u001b[49m\u001b[43m)\u001b[49m\n\u001b[0;32m    496\u001b[0m \u001b[38;5;66;03m# Collect newly grown trees\u001b[39;00m\n\u001b[0;32m    497\u001b[0m \u001b[38;5;28mself\u001b[39m\u001b[38;5;241m.\u001b[39mestimators_\u001b[38;5;241m.\u001b[39mextend(trees)\n",
      "File \u001b[1;32m~\\anaconda3\\envs\\Miniproject\\lib\\site-packages\\joblib\\parallel.py:1088\u001b[0m, in \u001b[0;36mParallel.__call__\u001b[1;34m(self, iterable)\u001b[0m\n\u001b[0;32m   1085\u001b[0m \u001b[38;5;28;01mif\u001b[39;00m \u001b[38;5;28mself\u001b[39m\u001b[38;5;241m.\u001b[39mdispatch_one_batch(iterator):\n\u001b[0;32m   1086\u001b[0m     \u001b[38;5;28mself\u001b[39m\u001b[38;5;241m.\u001b[39m_iterating \u001b[38;5;241m=\u001b[39m \u001b[38;5;28mself\u001b[39m\u001b[38;5;241m.\u001b[39m_original_iterator \u001b[38;5;129;01mis\u001b[39;00m \u001b[38;5;129;01mnot\u001b[39;00m \u001b[38;5;28;01mNone\u001b[39;00m\n\u001b[1;32m-> 1088\u001b[0m \u001b[38;5;28;01mwhile\u001b[39;00m \u001b[38;5;28;43mself\u001b[39;49m\u001b[38;5;241;43m.\u001b[39;49m\u001b[43mdispatch_one_batch\u001b[49m\u001b[43m(\u001b[49m\u001b[43miterator\u001b[49m\u001b[43m)\u001b[49m:\n\u001b[0;32m   1089\u001b[0m     \u001b[38;5;28;01mpass\u001b[39;00m\n\u001b[0;32m   1091\u001b[0m \u001b[38;5;28;01mif\u001b[39;00m pre_dispatch \u001b[38;5;241m==\u001b[39m \u001b[38;5;124m\"\u001b[39m\u001b[38;5;124mall\u001b[39m\u001b[38;5;124m\"\u001b[39m \u001b[38;5;129;01mor\u001b[39;00m n_jobs \u001b[38;5;241m==\u001b[39m \u001b[38;5;241m1\u001b[39m:\n\u001b[0;32m   1092\u001b[0m     \u001b[38;5;66;03m# The iterable was consumed all at once by the above for loop.\u001b[39;00m\n\u001b[0;32m   1093\u001b[0m     \u001b[38;5;66;03m# No need to wait for async callbacks to trigger to\u001b[39;00m\n\u001b[0;32m   1094\u001b[0m     \u001b[38;5;66;03m# consumption.\u001b[39;00m\n",
      "File \u001b[1;32m~\\anaconda3\\envs\\Miniproject\\lib\\site-packages\\joblib\\parallel.py:901\u001b[0m, in \u001b[0;36mParallel.dispatch_one_batch\u001b[1;34m(self, iterator)\u001b[0m\n\u001b[0;32m    899\u001b[0m     \u001b[38;5;28;01mreturn\u001b[39;00m \u001b[38;5;28;01mFalse\u001b[39;00m\n\u001b[0;32m    900\u001b[0m \u001b[38;5;28;01melse\u001b[39;00m:\n\u001b[1;32m--> 901\u001b[0m     \u001b[38;5;28;43mself\u001b[39;49m\u001b[38;5;241;43m.\u001b[39;49m\u001b[43m_dispatch\u001b[49m\u001b[43m(\u001b[49m\u001b[43mtasks\u001b[49m\u001b[43m)\u001b[49m\n\u001b[0;32m    902\u001b[0m     \u001b[38;5;28;01mreturn\u001b[39;00m \u001b[38;5;28;01mTrue\u001b[39;00m\n",
      "File \u001b[1;32m~\\anaconda3\\envs\\Miniproject\\lib\\site-packages\\joblib\\parallel.py:819\u001b[0m, in \u001b[0;36mParallel._dispatch\u001b[1;34m(self, batch)\u001b[0m\n\u001b[0;32m    817\u001b[0m \u001b[38;5;28;01mwith\u001b[39;00m \u001b[38;5;28mself\u001b[39m\u001b[38;5;241m.\u001b[39m_lock:\n\u001b[0;32m    818\u001b[0m     job_idx \u001b[38;5;241m=\u001b[39m \u001b[38;5;28mlen\u001b[39m(\u001b[38;5;28mself\u001b[39m\u001b[38;5;241m.\u001b[39m_jobs)\n\u001b[1;32m--> 819\u001b[0m     job \u001b[38;5;241m=\u001b[39m \u001b[38;5;28;43mself\u001b[39;49m\u001b[38;5;241;43m.\u001b[39;49m\u001b[43m_backend\u001b[49m\u001b[38;5;241;43m.\u001b[39;49m\u001b[43mapply_async\u001b[49m\u001b[43m(\u001b[49m\u001b[43mbatch\u001b[49m\u001b[43m,\u001b[49m\u001b[43m \u001b[49m\u001b[43mcallback\u001b[49m\u001b[38;5;241;43m=\u001b[39;49m\u001b[43mcb\u001b[49m\u001b[43m)\u001b[49m\n\u001b[0;32m    820\u001b[0m     \u001b[38;5;66;03m# A job can complete so quickly than its callback is\u001b[39;00m\n\u001b[0;32m    821\u001b[0m     \u001b[38;5;66;03m# called before we get here, causing self._jobs to\u001b[39;00m\n\u001b[0;32m    822\u001b[0m     \u001b[38;5;66;03m# grow. To ensure correct results ordering, .insert is\u001b[39;00m\n\u001b[0;32m    823\u001b[0m     \u001b[38;5;66;03m# used (rather than .append) in the following line\u001b[39;00m\n\u001b[0;32m    824\u001b[0m     \u001b[38;5;28mself\u001b[39m\u001b[38;5;241m.\u001b[39m_jobs\u001b[38;5;241m.\u001b[39minsert(job_idx, job)\n",
      "File \u001b[1;32m~\\anaconda3\\envs\\Miniproject\\lib\\site-packages\\joblib\\_parallel_backends.py:208\u001b[0m, in \u001b[0;36mSequentialBackend.apply_async\u001b[1;34m(self, func, callback)\u001b[0m\n\u001b[0;32m    206\u001b[0m \u001b[38;5;28;01mdef\u001b[39;00m \u001b[38;5;21mapply_async\u001b[39m(\u001b[38;5;28mself\u001b[39m, func, callback\u001b[38;5;241m=\u001b[39m\u001b[38;5;28;01mNone\u001b[39;00m):\n\u001b[0;32m    207\u001b[0m \u001b[38;5;250m    \u001b[39m\u001b[38;5;124;03m\"\"\"Schedule a func to be run\"\"\"\u001b[39;00m\n\u001b[1;32m--> 208\u001b[0m     result \u001b[38;5;241m=\u001b[39m \u001b[43mImmediateResult\u001b[49m\u001b[43m(\u001b[49m\u001b[43mfunc\u001b[49m\u001b[43m)\u001b[49m\n\u001b[0;32m    209\u001b[0m     \u001b[38;5;28;01mif\u001b[39;00m callback:\n\u001b[0;32m    210\u001b[0m         callback(result)\n",
      "File \u001b[1;32m~\\anaconda3\\envs\\Miniproject\\lib\\site-packages\\joblib\\_parallel_backends.py:597\u001b[0m, in \u001b[0;36mImmediateResult.__init__\u001b[1;34m(self, batch)\u001b[0m\n\u001b[0;32m    594\u001b[0m \u001b[38;5;28;01mdef\u001b[39;00m \u001b[38;5;21m__init__\u001b[39m(\u001b[38;5;28mself\u001b[39m, batch):\n\u001b[0;32m    595\u001b[0m     \u001b[38;5;66;03m# Don't delay the application, to avoid keeping the input\u001b[39;00m\n\u001b[0;32m    596\u001b[0m     \u001b[38;5;66;03m# arguments in memory\u001b[39;00m\n\u001b[1;32m--> 597\u001b[0m     \u001b[38;5;28mself\u001b[39m\u001b[38;5;241m.\u001b[39mresults \u001b[38;5;241m=\u001b[39m \u001b[43mbatch\u001b[49m\u001b[43m(\u001b[49m\u001b[43m)\u001b[49m\n",
      "File \u001b[1;32m~\\anaconda3\\envs\\Miniproject\\lib\\site-packages\\joblib\\parallel.py:288\u001b[0m, in \u001b[0;36mBatchedCalls.__call__\u001b[1;34m(self)\u001b[0m\n\u001b[0;32m    284\u001b[0m \u001b[38;5;28;01mdef\u001b[39;00m \u001b[38;5;21m__call__\u001b[39m(\u001b[38;5;28mself\u001b[39m):\n\u001b[0;32m    285\u001b[0m     \u001b[38;5;66;03m# Set the default nested backend to self._backend but do not set the\u001b[39;00m\n\u001b[0;32m    286\u001b[0m     \u001b[38;5;66;03m# change the default number of processes to -1\u001b[39;00m\n\u001b[0;32m    287\u001b[0m     \u001b[38;5;28;01mwith\u001b[39;00m parallel_backend(\u001b[38;5;28mself\u001b[39m\u001b[38;5;241m.\u001b[39m_backend, n_jobs\u001b[38;5;241m=\u001b[39m\u001b[38;5;28mself\u001b[39m\u001b[38;5;241m.\u001b[39m_n_jobs):\n\u001b[1;32m--> 288\u001b[0m         \u001b[38;5;28;01mreturn\u001b[39;00m [func(\u001b[38;5;241m*\u001b[39margs, \u001b[38;5;241m*\u001b[39m\u001b[38;5;241m*\u001b[39mkwargs)\n\u001b[0;32m    289\u001b[0m                 \u001b[38;5;28;01mfor\u001b[39;00m func, args, kwargs \u001b[38;5;129;01min\u001b[39;00m \u001b[38;5;28mself\u001b[39m\u001b[38;5;241m.\u001b[39mitems]\n",
      "File \u001b[1;32m~\\anaconda3\\envs\\Miniproject\\lib\\site-packages\\joblib\\parallel.py:288\u001b[0m, in \u001b[0;36m<listcomp>\u001b[1;34m(.0)\u001b[0m\n\u001b[0;32m    284\u001b[0m \u001b[38;5;28;01mdef\u001b[39;00m \u001b[38;5;21m__call__\u001b[39m(\u001b[38;5;28mself\u001b[39m):\n\u001b[0;32m    285\u001b[0m     \u001b[38;5;66;03m# Set the default nested backend to self._backend but do not set the\u001b[39;00m\n\u001b[0;32m    286\u001b[0m     \u001b[38;5;66;03m# change the default number of processes to -1\u001b[39;00m\n\u001b[0;32m    287\u001b[0m     \u001b[38;5;28;01mwith\u001b[39;00m parallel_backend(\u001b[38;5;28mself\u001b[39m\u001b[38;5;241m.\u001b[39m_backend, n_jobs\u001b[38;5;241m=\u001b[39m\u001b[38;5;28mself\u001b[39m\u001b[38;5;241m.\u001b[39m_n_jobs):\n\u001b[1;32m--> 288\u001b[0m         \u001b[38;5;28;01mreturn\u001b[39;00m [func(\u001b[38;5;241m*\u001b[39margs, \u001b[38;5;241m*\u001b[39m\u001b[38;5;241m*\u001b[39mkwargs)\n\u001b[0;32m    289\u001b[0m                 \u001b[38;5;28;01mfor\u001b[39;00m func, args, kwargs \u001b[38;5;129;01min\u001b[39;00m \u001b[38;5;28mself\u001b[39m\u001b[38;5;241m.\u001b[39mitems]\n",
      "File \u001b[1;32m~\\anaconda3\\envs\\Miniproject\\lib\\site-packages\\sklearn\\utils\\fixes.py:117\u001b[0m, in \u001b[0;36m_FuncWrapper.__call__\u001b[1;34m(self, *args, **kwargs)\u001b[0m\n\u001b[0;32m    115\u001b[0m \u001b[38;5;28;01mdef\u001b[39;00m \u001b[38;5;21m__call__\u001b[39m(\u001b[38;5;28mself\u001b[39m, \u001b[38;5;241m*\u001b[39margs, \u001b[38;5;241m*\u001b[39m\u001b[38;5;241m*\u001b[39mkwargs):\n\u001b[0;32m    116\u001b[0m     \u001b[38;5;28;01mwith\u001b[39;00m config_context(\u001b[38;5;241m*\u001b[39m\u001b[38;5;241m*\u001b[39m\u001b[38;5;28mself\u001b[39m\u001b[38;5;241m.\u001b[39mconfig):\n\u001b[1;32m--> 117\u001b[0m         \u001b[38;5;28;01mreturn\u001b[39;00m \u001b[38;5;28mself\u001b[39m\u001b[38;5;241m.\u001b[39mfunction(\u001b[38;5;241m*\u001b[39margs, \u001b[38;5;241m*\u001b[39m\u001b[38;5;241m*\u001b[39mkwargs)\n",
      "File \u001b[1;32m~\\anaconda3\\envs\\Miniproject\\lib\\site-packages\\sklearn\\ensemble\\_forest.py:176\u001b[0m, in \u001b[0;36m_parallel_build_trees\u001b[1;34m(tree, bootstrap, X, y, sample_weight, tree_idx, n_trees, verbose, class_weight, n_samples_bootstrap)\u001b[0m\n\u001b[0;32m    173\u001b[0m \u001b[38;5;28;01melse\u001b[39;00m:\n\u001b[0;32m    174\u001b[0m     curr_sample_weight \u001b[38;5;241m=\u001b[39m sample_weight\u001b[38;5;241m.\u001b[39mcopy()\n\u001b[1;32m--> 176\u001b[0m indices \u001b[38;5;241m=\u001b[39m \u001b[43m_generate_sample_indices\u001b[49m\u001b[43m(\u001b[49m\n\u001b[0;32m    177\u001b[0m \u001b[43m    \u001b[49m\u001b[43mtree\u001b[49m\u001b[38;5;241;43m.\u001b[39;49m\u001b[43mrandom_state\u001b[49m\u001b[43m,\u001b[49m\u001b[43m \u001b[49m\u001b[43mn_samples\u001b[49m\u001b[43m,\u001b[49m\u001b[43m \u001b[49m\u001b[43mn_samples_bootstrap\u001b[49m\n\u001b[0;32m    178\u001b[0m \u001b[43m\u001b[49m\u001b[43m)\u001b[49m\n\u001b[0;32m    179\u001b[0m sample_counts \u001b[38;5;241m=\u001b[39m np\u001b[38;5;241m.\u001b[39mbincount(indices, minlength\u001b[38;5;241m=\u001b[39mn_samples)\n\u001b[0;32m    180\u001b[0m curr_sample_weight \u001b[38;5;241m*\u001b[39m\u001b[38;5;241m=\u001b[39m sample_counts\n",
      "File \u001b[1;32m~\\anaconda3\\envs\\Miniproject\\lib\\site-packages\\sklearn\\ensemble\\_forest.py:133\u001b[0m, in \u001b[0;36m_generate_sample_indices\u001b[1;34m(random_state, n_samples, n_samples_bootstrap)\u001b[0m\n\u001b[0;32m    129\u001b[0m \u001b[38;5;250m\u001b[39m\u001b[38;5;124;03m\"\"\"\u001b[39;00m\n\u001b[0;32m    130\u001b[0m \u001b[38;5;124;03mPrivate function used to _parallel_build_trees function.\"\"\"\u001b[39;00m\n\u001b[0;32m    132\u001b[0m random_instance \u001b[38;5;241m=\u001b[39m check_random_state(random_state)\n\u001b[1;32m--> 133\u001b[0m sample_indices \u001b[38;5;241m=\u001b[39m \u001b[43mrandom_instance\u001b[49m\u001b[38;5;241;43m.\u001b[39;49m\u001b[43mrandint\u001b[49m\u001b[43m(\u001b[49m\u001b[38;5;241;43m0\u001b[39;49m\u001b[43m,\u001b[49m\u001b[43m \u001b[49m\u001b[43mn_samples\u001b[49m\u001b[43m,\u001b[49m\u001b[43m \u001b[49m\u001b[43mn_samples_bootstrap\u001b[49m\u001b[43m)\u001b[49m\n\u001b[0;32m    135\u001b[0m \u001b[38;5;28;01mreturn\u001b[39;00m sample_indices\n",
      "\u001b[1;31mKeyboardInterrupt\u001b[0m: "
     ]
    }
   ],
   "source": [
    "import numpy as np\n",
    "X_best = []\n",
    "\n",
    "# Genetic Algorithm\n",
    "def main():\n",
    "\n",
    "    # create initial population (generation 0):\n",
    "    population = toolbox.populationCreator(n=POPULATION_SIZE)\n",
    "\n",
    "    # prepare the statistics object\n",
    "    stats = tools.Statistics(lambda ind: ind.fitness.values)\n",
    "    stats.register(\"max\", np.max)\n",
    "    stats.register(\"avg\", np.mean)\n",
    "    stats.register(\"min\", np.min)\n",
    "\n",
    "    # define the hall-of-fame object:\n",
    "    hof = tools.HallOfFame(HALL_OF_FAME_SIZE)\n",
    "\n",
    "    # perform the Genetic Algorithm flow with hof \n",
    "    population, logbook = eaSimpleWithElitism(population, toolbox, cxpb=P_CROSSOVER, mutpb=P_MUTATION,\n",
    "                                                      ngen=MAX_GENERATIONS, stats=stats, halloffame=hof, verbose=True)\n",
    "\n",
    "    # print best solution found:\n",
    "    print(\"- Best solutions are:\")\n",
    "    for i in range(HALL_OF_FAME_SIZE):\n",
    "        print(i, \": \", hof.items[i],\", fitness = \", hof.items[i].fitness.values[0],\", F1-score = \", patients.get_mean_f1_score(hof.items[i]), \", features = \", sum(hof.items[i]),\", features set = \",  [list(X_train)[j] for j in range(len(hof.items[i])) if hof.items[i][j] == 1])\n",
    "\n",
    "    X_best.append(hof.items)\n",
    "\n",
    "    print(hof.items)\n",
    "    # extract statistics:\n",
    "    maxFitnessValues, meanFitnessValues, minFitnessValues = logbook.select(\"max\", \"avg\", \"min\")\n",
    "\n",
    "    fig, ax = plt.subplots()\n",
    "\n",
    "    # plot statistics:\n",
    "    sns.set_style(\"whitegrid\")\n",
    "    line1 = plt.plot(maxFitnessValues, color='red', label=\"Maximum Fitness\")\n",
    "    line2 = plt.plot(meanFitnessValues, color='orange', label=\"Average Fitness\")\n",
    "    line3 = plt.plot(minFitnessValues, color='green', label=\"Minimum Fitness\")\n",
    "    plt.xlabel('Generation')\n",
    "    plt.ylabel('Min / Average / Max  Fitness')\n",
    "    plt.title('Min, Average and Max fitness over Generations')\n",
    "\n",
    "    lns = line1 + line2 + line3\n",
    "    labs = [l.get_label() for l in lns]\n",
    "    ax.legend(lns, labs, loc=\"top left\")\n",
    "    plt.savefig(\"genetic_Evolution.pdf\", dpi=1000)\n",
    "    plt.show()\n",
    "\n",
    "if __name__ == \"__main__\":\n",
    "    main()"
   ]
  },
  {
   "cell_type": "code",
   "execution_count": 52,
   "id": "e69c6084",
   "metadata": {},
   "outputs": [],
   "source": [
    "X_best = [[1, 1, 1, 1, 1, 1, 1, 1, 1, 0, 1, 0, 1, 1, 1, 1, 1, 1, 1, 1], [1, 1, 0, 1, 1, 1, 1, 1, 0, 0, 0, 0, 1, 1, 1, 1, 1, 1, 1, 1], [1, 1, 1, 0, 0, 1, 1, 1, 1, 1, 0, 0, 1, 1, 1, 0, 1, 1, 1, 1], [1, 1, 1, 1, 1, 1, 1, 0, 1, 0, 1, 1, 1, 1, 1, 0, 1, 1, 1, 1], [1, 1, 1, 1, 1, 1, 1, 0, 1, 0, 1, 0, 1, 1, 1, 1, 1, 1, 1, 1]]"
   ]
  },
  {
   "cell_type": "code",
   "execution_count": 53,
   "id": "7a687e61",
   "metadata": {},
   "outputs": [],
   "source": [
    "X_new = X_best[0]\n",
    "X_train = X_train[[list(X_train)[j] for j in range(len(X_new)) if X_new[j] == 1]]\n",
    "X_test = X_test[[list(X_test)[j] for j in range(len(X_new)) if X_new[j] == 1]]               \n",
    "\n",
    "#save the data after feature selection\n",
    "X_train.to_csv(\"X_train_FS.csv\", index = False)\n",
    "y_train.to_csv(\"y_train_FS.csv\", index = False)\n",
    "X_test.to_csv(\"X_test_FS.csv\", index = False)\n",
    "y_test.to_csv(\"y_test_FS.csv\", index = False)"
   ]
  },
  {
   "cell_type": "code",
   "execution_count": null,
   "id": "25b3ef99",
   "metadata": {},
   "outputs": [],
   "source": []
  },
  {
   "cell_type": "code",
   "execution_count": null,
   "id": "18e76536",
   "metadata": {},
   "outputs": [],
   "source": []
  },
  {
   "cell_type": "code",
   "execution_count": null,
   "id": "0e3d4566",
   "metadata": {},
   "outputs": [],
   "source": []
  },
  {
   "cell_type": "code",
   "execution_count": null,
   "id": "e47677ed",
   "metadata": {},
   "outputs": [],
   "source": []
  }
 ],
 "metadata": {
  "kernelspec": {
   "display_name": "Python 3.10.11",
   "language": "python",
   "name": "miniproject"
  },
  "language_info": {
   "codemirror_mode": {
    "name": "ipython",
    "version": 3
   },
   "file_extension": ".py",
   "mimetype": "text/x-python",
   "name": "python",
   "nbconvert_exporter": "python",
   "pygments_lexer": "ipython3",
   "version": "3.10.11"
  }
 },
 "nbformat": 4,
 "nbformat_minor": 5
}
